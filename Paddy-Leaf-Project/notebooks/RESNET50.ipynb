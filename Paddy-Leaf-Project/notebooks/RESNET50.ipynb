{
  "cells": [
    {
      "cell_type": "code",
      "execution_count": 37,
      "metadata": {
        "colab": {
          "base_uri": "https://localhost:8080/"
        },
        "id": "Hykkrfh880Ag",
        "outputId": "3dfc2bb6-9311-4f43-dc1d-9444bfc05e3b"
      },
      "outputs": [
        {
          "name": "stdout",
          "output_type": "stream",
          "text": [
            "Drive already mounted at /content/drive; to attempt to forcibly remount, call drive.mount(\"/content/drive\", force_remount=True).\n"
          ]
        }
      ],
      "source": [
        "## Step 1: Mount Google Drive (for accessing dataset and saving the model)\n",
        "from google.colab import drive\n",
        "drive.mount('/content/drive')"
      ]
    },
    {
      "cell_type": "code",
      "execution_count": 39,
      "metadata": {
        "id": "GcYpodYy8z9O"
      },
      "outputs": [],
      "source": [
        "# import Necessary Library\n",
        "import os\n",
        "import numpy as np\n",
        "import tensorflow as tf\n",
        "from tensorflow.keras.applications import ResNet50\n",
        "from tensorflow.keras.preprocessing.image import ImageDataGenerator\n",
        "from tensorflow.keras.models import Sequential, Model\n",
        "from tensorflow.keras.layers import Dense, Flatten, GlobalAveragePooling2D\n",
        "from tensorflow.keras.optimizers import Adam"
      ]
    },
    {
      "cell_type": "code",
      "execution_count": 40,
      "metadata": {
        "id": "Wp9w69_I8z58"
      },
      "outputs": [],
      "source": [
        "## Step 3: Set Dataset Path from Google Drive\n",
        "dataset_path = '/content/drive/MyDrive/Diseas'"
      ]
    },
    {
      "cell_type": "code",
      "execution_count": 42,
      "metadata": {
        "colab": {
          "base_uri": "https://localhost:8080/"
        },
        "id": "r4z9YJ8N8zzZ",
        "outputId": "4919aeb6-e7de-4c63-936c-3f642cf4827f"
      },
      "outputs": [
        {
          "name": "stdout",
          "output_type": "stream",
          "text": [
            "Found 4747 images belonging to 4 classes.\n",
            "Found 1185 images belonging to 4 classes.\n"
          ]
        }
      ],
      "source": [
        "## Step 4: Data Preprocessing\n",
        "image_size = (224, 224)\n",
        "batch_size = 32\n",
        "\n",
        "train_datagen = ImageDataGenerator(\n",
        "    rescale=1./255,             # Pixel values ko 0-1 range me normalize kiya\n",
        "    rotation_range=20,          # Image rotate karne ka range 20 degrees\n",
        "    width_shift_range=0.2,      # Image horizontal shift\n",
        "    height_shift_range=0.2,     # Image vertical shift\n",
        "    shear_range=0.2,            # Shear transformation\n",
        "    zoom_range=0.2,             # Zoom transformation\n",
        "    horizontal_flip=True,       # Random horizontal flip\n",
        "    validation_split=0.2        # 80% training, 20% validation\n",
        ")\n",
        "\n",
        "train_generator = train_datagen.flow_from_directory(\n",
        "    dataset_path,\n",
        "    target_size=image_size,\n",
        "    batch_size=batch_size,\n",
        "    class_mode='categorical',\n",
        "     color_mode='rgb',\n",
        "    subset='training'\n",
        ")\n",
        "\n",
        "val_generator = train_datagen.flow_from_directory(\n",
        "    dataset_path,\n",
        "    target_size=image_size,\n",
        "    batch_size=batch_size,\n",
        "    class_mode='categorical',\n",
        "     color_mode='rgb',\n",
        "    subset='validation'\n",
        ")"
      ]
    },
    {
      "cell_type": "code",
      "execution_count": 48,
      "metadata": {
        "id": "ZGbG31WREfI8"
      },
      "outputs": [],
      "source": [
        "# Step 2: Load Pretrained ResNet-50 Model\n",
        "base_model = ResNet50(weights='imagenet', include_top=False, input_shape=(224,224,3))\n",
        "base_model.trainable = True  # Unfreeze the base model for fine-tuning  # Freeze the base model"
      ]
    },
    {
      "cell_type": "code",
      "execution_count": 53,
      "metadata": {
        "id": "kTFdfMN3dtXK"
      },
      "outputs": [],
      "source": [
        "# Step 3: Add Custom Classification Layers\n",
        "\n",
        "model = Sequential([\n",
        "    base_model,\n",
        "    GlobalAveragePooling2D(),\n",
        "    Dense(128, activation='relu'),\n",
        "    tf.keras.layers.Dropout(0.3),  # Add dropout to prevent overfitting,\n",
        "    Dense(train_generator.num_classes, activation='softmax')\n",
        "])"
      ]
    },
    {
      "cell_type": "code",
      "execution_count": 55,
      "metadata": {
        "id": "EifgS6DjdtRn"
      },
      "outputs": [],
      "source": [
        "# Step 4: Compile the Model\n",
        "model.compile(optimizer=tf.keras.optimizers.AdamW(learning_rate=0.0005), loss='categorical_crossentropy', metrics=['accuracy'])"
      ]
    },
    {
      "cell_type": "code",
      "execution_count": 56,
      "metadata": {
        "colab": {
          "base_uri": "https://localhost:8080/"
        },
        "id": "2jGu-AErdtNm",
        "outputId": "0c9c5bda-0588-4a3c-fcf1-05c6f2f645aa"
      },
      "outputs": [
        {
          "name": "stdout",
          "output_type": "stream",
          "text": [
            "Epoch 1/15\n",
            "\u001b[1m149/149\u001b[0m \u001b[32m━━━━━━━━━━━━━━━━━━━━\u001b[0m\u001b[37m\u001b[0m \u001b[1m189s\u001b[0m 864ms/step - accuracy: 0.8402 - loss: 0.4301 - val_accuracy: 0.2430 - val_loss: 4.0176 - learning_rate: 5.0000e-04\n",
            "Epoch 2/15\n",
            "\u001b[1m149/149\u001b[0m \u001b[32m━━━━━━━━━━━━━━━━━━━━\u001b[0m\u001b[37m\u001b[0m \u001b[1m150s\u001b[0m 673ms/step - accuracy: 0.9378 - loss: 0.1860 - val_accuracy: 0.2667 - val_loss: 1.4029 - learning_rate: 5.0000e-04\n",
            "Epoch 3/15\n",
            "\u001b[1m149/149\u001b[0m \u001b[32m━━━━━━━━━━━━━━━━━━━━\u001b[0m\u001b[37m\u001b[0m \u001b[1m143s\u001b[0m 685ms/step - accuracy: 0.9766 - loss: 0.0711 - val_accuracy: 0.2430 - val_loss: 7.9918 - learning_rate: 5.0000e-04\n",
            "Epoch 4/15\n",
            "\u001b[1m149/149\u001b[0m \u001b[32m━━━━━━━━━━━━━━━━━━━━\u001b[0m\u001b[37m\u001b[0m \u001b[1m104s\u001b[0m 695ms/step - accuracy: 0.9756 - loss: 0.0850 - val_accuracy: 0.2861 - val_loss: 4.6473 - learning_rate: 5.0000e-04\n",
            "Epoch 5/15\n",
            "\u001b[1m149/149\u001b[0m \u001b[32m━━━━━━━━━━━━━━━━━━━━\u001b[0m\u001b[37m\u001b[0m \u001b[1m102s\u001b[0m 682ms/step - accuracy: 0.9719 - loss: 0.0761 - val_accuracy: 0.2962 - val_loss: 3.8644 - learning_rate: 5.0000e-04\n",
            "Epoch 6/15\n",
            "\u001b[1m149/149\u001b[0m \u001b[32m━━━━━━━━━━━━━━━━━━━━\u001b[0m\u001b[37m\u001b[0m \u001b[1m106s\u001b[0m 710ms/step - accuracy: 0.9881 - loss: 0.0445 - val_accuracy: 0.4734 - val_loss: 1.7596 - learning_rate: 2.5000e-04\n",
            "Epoch 7/15\n",
            "\u001b[1m149/149\u001b[0m \u001b[32m━━━━━━━━━━━━━━━━━━━━\u001b[0m\u001b[37m\u001b[0m \u001b[1m126s\u001b[0m 843ms/step - accuracy: 0.9964 - loss: 0.0148 - val_accuracy: 0.8886 - val_loss: 0.3171 - learning_rate: 2.5000e-04\n",
            "Epoch 8/15\n",
            "\u001b[1m149/149\u001b[0m \u001b[32m━━━━━━━━━━━━━━━━━━━━\u001b[0m\u001b[37m\u001b[0m \u001b[1m105s\u001b[0m 701ms/step - accuracy: 0.9977 - loss: 0.0069 - val_accuracy: 0.9806 - val_loss: 0.0513 - learning_rate: 2.5000e-04\n",
            "Epoch 9/15\n",
            "\u001b[1m149/149\u001b[0m \u001b[32m━━━━━━━━━━━━━━━━━━━━\u001b[0m\u001b[37m\u001b[0m \u001b[1m105s\u001b[0m 707ms/step - accuracy: 0.9984 - loss: 0.0047 - val_accuracy: 0.9992 - val_loss: 0.0027 - learning_rate: 2.5000e-04\n",
            "Epoch 10/15\n",
            "\u001b[1m149/149\u001b[0m \u001b[32m━━━━━━━━━━━━━━━━━━━━\u001b[0m\u001b[37m\u001b[0m \u001b[1m107s\u001b[0m 715ms/step - accuracy: 0.9986 - loss: 0.0047 - val_accuracy: 0.9932 - val_loss: 0.0157 - learning_rate: 2.5000e-04\n",
            "Epoch 11/15\n",
            "\u001b[1m149/149\u001b[0m \u001b[32m━━━━━━━━━━━━━━━━━━━━\u001b[0m\u001b[37m\u001b[0m \u001b[1m106s\u001b[0m 712ms/step - accuracy: 0.9948 - loss: 0.0138 - val_accuracy: 1.0000 - val_loss: 0.0017 - learning_rate: 2.5000e-04\n",
            "Epoch 12/15\n",
            "\u001b[1m149/149\u001b[0m \u001b[32m━━━━━━━━━━━━━━━━━━━━\u001b[0m\u001b[37m\u001b[0m \u001b[1m109s\u001b[0m 733ms/step - accuracy: 0.9970 - loss: 0.0078 - val_accuracy: 0.9983 - val_loss: 0.0051 - learning_rate: 2.5000e-04\n",
            "Epoch 13/15\n",
            "\u001b[1m149/149\u001b[0m \u001b[32m━━━━━━━━━━━━━━━━━━━━\u001b[0m\u001b[37m\u001b[0m \u001b[1m107s\u001b[0m 715ms/step - accuracy: 0.9915 - loss: 0.0262 - val_accuracy: 0.9013 - val_loss: 0.4031 - learning_rate: 2.5000e-04\n",
            "Epoch 14/15\n",
            "\u001b[1m149/149\u001b[0m \u001b[32m━━━━━━━━━━━━━━━━━━━━\u001b[0m\u001b[37m\u001b[0m \u001b[1m106s\u001b[0m 713ms/step - accuracy: 0.9968 - loss: 0.0133 - val_accuracy: 0.9932 - val_loss: 0.0267 - learning_rate: 2.5000e-04\n",
            "Epoch 15/15\n",
            "\u001b[1m149/149\u001b[0m \u001b[32m━━━━━━━━━━━━━━━━━━━━\u001b[0m\u001b[37m\u001b[0m \u001b[1m105s\u001b[0m 704ms/step - accuracy: 0.9967 - loss: 0.0144 - val_accuracy: 0.9983 - val_loss: 0.0043 - learning_rate: 1.2500e-04\n"
          ]
        },
        {
          "data": {
            "text/plain": [
              "<keras.src.callbacks.history.History at 0x79d67a181750>"
            ]
          },
          "execution_count": 56,
          "metadata": {},
          "output_type": "execute_result"
        }
      ],
      "source": [
        "# Step 5: Train the Model\n",
        "lr_scheduler = tf.keras.callbacks.ReduceLROnPlateau(monitor='val_loss', factor=0.5, patience=3, min_lr=1e-6)\n",
        "model.fit(train_generator, validation_data=val_generator, epochs=15, callbacks=[lr_scheduler])"
      ]
    },
    {
      "cell_type": "code",
      "execution_count": null,
      "metadata": {
        "id": "NvI48ubYeg2H"
      },
      "outputs": [],
      "source": []
    },
    {
      "cell_type": "code",
      "execution_count": null,
      "metadata": {
        "id": "U-EbEQUffDfO"
      },
      "outputs": [],
      "source": []
    },
    {
      "cell_type": "code",
      "execution_count": null,
      "metadata": {
        "id": "Afb1WUljfDUu"
      },
      "outputs": [],
      "source": []
    },
    {
      "cell_type": "code",
      "execution_count": null,
      "metadata": {
        "id": "PwSNypi4aUeS"
      },
      "outputs": [],
      "source": []
    },
    {
      "cell_type": "code",
      "execution_count": null,
      "metadata": {
        "id": "jbTOkxEyaUM1"
      },
      "outputs": [],
      "source": []
    }
  ],
  "metadata": {
    "accelerator": "GPU",
    "colab": {
      "gpuType": "T4",
      "provenance": []
    },
    "kernelspec": {
      "display_name": "Python 3",
      "name": "python3"
    },
    "language_info": {
      "name": "python"
    }
  },
  "nbformat": 4,
  "nbformat_minor": 0
}
