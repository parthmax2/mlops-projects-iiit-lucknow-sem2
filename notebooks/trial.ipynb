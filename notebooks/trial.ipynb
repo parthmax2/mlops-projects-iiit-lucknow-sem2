{
  "cells": [
    {
      "cell_type": "code",
      "execution_count": 2,
      "metadata": {
        "id": "S-bmLuT9523T"
      },
      "outputs": [],
      "source": [
        "\n",
        "import numpy as np\n",
        "import pandas as pd\n",
        "import matplotlib.pyplot as plt\n",
        "import tensorflow as tf\n",
        "from tensorflow import keras\n",
        "from tensorflow.keras import layers, models, regularizers\n",
        "from tensorflow.keras.callbacks import EarlyStopping, ReduceLROnPlateau, ModelCheckpoint\n",
        "from tensorflow.keras.preprocessing.image import ImageDataGenerator\n",
        "from tensorflow.keras.utils import to_categorical\n",
        "from sklearn.model_selection import train_test_split\n",
        "from sklearn.metrics import classification_report, confusion_matrix\n",
        "import seaborn as sns\n",
        "from torchvision import datasets, transforms\n",
        "import torch"
      ]
    },
    {
      "cell_type": "code",
      "execution_count": 3,
      "metadata": {
        "colab": {
          "base_uri": "https://localhost:8080/"
        },
        "id": "xb1eX6cQ8E-C",
        "outputId": "41123f89-fd57-4bf4-d0b6-c5f478ecfef3"
      },
      "outputs": [
        {
          "data": {
            "text/plain": [
              "<torch._C.Generator at 0x2290c0aa850>"
            ]
          },
          "execution_count": 3,
          "metadata": {},
          "output_type": "execute_result"
        }
      ],
      "source": [
        "np.random.seed(42)\n",
        "tf.random.set_seed(42)\n",
        "torch.manual_seed(42)"
      ]
    },
    {
      "cell_type": "code",
      "execution_count": 4,
      "metadata": {
        "colab": {
          "base_uri": "https://localhost:8080/"
        },
        "id": "UGqd5Jyk8OtA",
        "outputId": "b6242993-ee1f-4a01-962e-d05fc5f6bace"
      },
      "outputs": [
        {
          "name": "stdout",
          "output_type": "stream",
          "text": [
            "Loading EMNIST dataset...\n"
          ]
        }
      ],
      "source": [
        "print(\"Loading EMNIST dataset...\")\n",
        "transform = transforms.Compose([transforms.ToTensor()])\n",
        "train_dataset = datasets.EMNIST(root='./data', split='byclass', train=True, download=True, transform=transform)\n",
        "test_dataset = datasets.EMNIST(root='./data', split='byclass', train=False, download=True, transform=transform)\n"
      ]
    },
    {
      "cell_type": "code",
      "execution_count": 5,
      "metadata": {
        "colab": {
          "base_uri": "https://localhost:8080/"
        },
        "id": "IKSPK5er8QtP",
        "outputId": "8da9425e-05b9-4b21-b095-d43973c36dd2"
      },
      "outputs": [
        {
          "name": "stdout",
          "output_type": "stream",
          "text": [
            "Training Samples: 697932\n",
            "Testing Samples: 116323\n",
            "Number of Classes: 62\n"
          ]
        }
      ],
      "source": [
        "print(f\"Training Samples: {len(train_dataset)}\")\n",
        "print(f\"Testing Samples: {len(test_dataset)}\")\n",
        "print(f\"Number of Classes: {len(train_dataset.classes)}\")"
      ]
    },
    {
      "cell_type": "code",
      "execution_count": 6,
      "metadata": {
        "id": "KzYKl7en8TJX"
      },
      "outputs": [],
      "source": [
        "train_indices = np.random.choice(len(train_dataset), 120000, replace=False)\n",
        "small_train_dataset = torch.utils.data.Subset(train_dataset, train_indices)\n",
        "\n",
        "test_indices = np.random.choice(len(test_dataset), 20000, replace=False)\n",
        "small_test_dataset = torch.utils.data.Subset(test_dataset, test_indices)\n"
      ]
    },
    {
      "cell_type": "code",
      "execution_count": 7,
      "metadata": {
        "id": "WoLWEWrT8XXx"
      },
      "outputs": [],
      "source": [
        "x_train = small_train_dataset.dataset.data[small_train_dataset.indices].numpy().reshape(-1, 28, 28, 1)\n",
        "y_train = small_train_dataset.dataset.targets[small_train_dataset.indices].numpy()\n",
        "\n",
        "x_test = small_test_dataset.dataset.data[small_test_dataset.indices].numpy().reshape(-1, 28, 28, 1)\n",
        "y_test = small_test_dataset.dataset.targets[small_test_dataset.indices].numpy()"
      ]
    },
    {
      "cell_type": "code",
      "execution_count": 8,
      "metadata": {
        "colab": {
          "base_uri": "https://localhost:8080/"
        },
        "id": "ItiUtTvh8aHg",
        "outputId": "bd231ddc-a52e-4bed-8728-a69638f274f4"
      },
      "outputs": [
        {
          "name": "stdout",
          "output_type": "stream",
          "text": [
            "x_train shape: (120000, 28, 28, 1)\n",
            "y_train shape: (120000,)\n",
            "x_test shape: (20000, 28, 28, 1)\n",
            "y_test shape: (20000,)\n"
          ]
        }
      ],
      "source": [
        "print(f\"x_train shape: {x_train.shape}\")\n",
        "print(f\"y_train shape: {y_train.shape}\")\n",
        "print(f\"x_test shape: {x_test.shape}\")\n",
        "print(f\"y_test shape: {y_test.shape}\")\n"
      ]
    },
    {
      "cell_type": "code",
      "execution_count": 9,
      "metadata": {
        "id": "p1YFgP588bvx"
      },
      "outputs": [],
      "source": [
        "class_counts = np.bincount(y_train)\n",
        "plt.figure(figsize=(15, 5))\n",
        "plt.bar(range(len(class_counts)), class_counts)\n",
        "plt.title('Class Distribution')\n",
        "plt.xlabel('Class')\n",
        "plt.ylabel('Count')\n",
        "plt.savefig('class_distribution.png')\n",
        "plt.close()"
      ]
    },
    {
      "cell_type": "code",
      "execution_count": 10,
      "metadata": {
        "id": "Tq1OwL2f8dny"
      },
      "outputs": [],
      "source": [
        "plt.figure(figsize=(10, 10))\n",
        "for i in range(25):\n",
        "    plt.subplot(5, 5, i+1)\n",
        "    plt.imshow(x_train[i].reshape(28, 28), cmap='gray')\n",
        "    plt.title(f'Class: {y_train[i]}')\n",
        "    plt.axis('off')\n",
        "plt.tight_layout()\n",
        "plt.savefig('sample_images.png')\n",
        "plt.close()"
      ]
    },
    {
      "cell_type": "code",
      "execution_count": 11,
      "metadata": {
        "id": "SfmbPLet8fg1"
      },
      "outputs": [],
      "source": [
        "x_train, x_val, y_train, y_val = train_test_split(\n",
        "    x_train, y_train, test_size=0.15, random_state=42, stratify=y_train\n",
        ")\n"
      ]
    },
    {
      "cell_type": "code",
      "execution_count": 12,
      "metadata": {
        "id": "KGfMNi9n8hYW"
      },
      "outputs": [],
      "source": [
        "x_train = x_train.astype('float32') / 255.0\n",
        "x_val = x_val.astype('float32') / 255.0\n",
        "x_test = x_test.astype('float32') / 255.0\n"
      ]
    },
    {
      "cell_type": "code",
      "execution_count": 13,
      "metadata": {
        "id": "en_laX2a8jKQ"
      },
      "outputs": [],
      "source": [
        "from sklearn.utils.class_weight import compute_class_weight\n",
        "class_weights = compute_class_weight(\n",
        "    class_weight='balanced',\n",
        "    classes=np.unique(y_train),\n",
        "    y=y_train\n",
        ")\n",
        "class_weight_dict = {i: weight for i, weight in enumerate(class_weights)}\n",
        "\n",
        "# One-hot encode the labels\n",
        "y_train_onehot = to_categorical(y_train, num_classes=62)\n",
        "y_val_onehot = to_categorical(y_val, num_classes=62)\n",
        "y_test_onehot = to_categorical(y_test, num_classes=62)\n"
      ]
    },
    {
      "cell_type": "code",
      "execution_count": 14,
      "metadata": {
        "id": "ENrTna918lcv"
      },
      "outputs": [],
      "source": [
        "datagen = ImageDataGenerator(\n",
        "    rotation_range=10,  # Reduced from 30 to 10 degrees\n",
        "    width_shift_range=0.1,  # Reduced from 0.2 to 0.1\n",
        "    height_shift_range=0.1,  # Reduced from 0.2 to 0.1\n",
        "    zoom_range=0.1,  # Reduced from 0.2 to 0.1\n",
        "    fill_mode='nearest',\n",
        "    horizontal_flip=False,\n",
        "    vertical_flip=False\n",
        ")\n"
      ]
    },
    {
      "cell_type": "code",
      "execution_count": 15,
      "metadata": {
        "id": "-PCIe1nK8nH2"
      },
      "outputs": [],
      "source": [
        "datagen.fit(x_train)"
      ]
    },
    {
      "cell_type": "code",
      "execution_count": 26,
      "metadata": {
        "id": "7i6gyEYh8o_a"
      },
      "outputs": [],
      "source": [
        "def create_improved_model():\n",
        "    model = models.Sequential([\n",
        "        # First Convolutional Block\n",
        "        layers.Conv2D(64, (3, 3), padding='same', activation='relu',\n",
        "                      kernel_regularizer=regularizers.l2(0.001),\n",
        "                      input_shape=(28, 28, 1)),\n",
        "        layers.BatchNormalization(),\n",
        "        layers.Conv2D(64, (3, 3), padding='same', activation='relu',\n",
        "                      kernel_regularizer=regularizers.l2(0.001)),\n",
        "        layers.BatchNormalization(),\n",
        "        layers.MaxPooling2D((2, 2)),\n",
        "        layers.Dropout(0.25),\n",
        "\n",
        "        # Second Convolutional Block\n",
        "        layers.Conv2D(64, (3, 3), padding='same', activation='relu',\n",
        "                      kernel_regularizer=regularizers.l2(0.001)),\n",
        "        layers.BatchNormalization(),\n",
        "        layers.Conv2D(64, (3, 3), padding='same', activation='relu',\n",
        "                      kernel_regularizer=regularizers.l2(0.001)),\n",
        "        layers.BatchNormalization(),\n",
        "        layers.MaxPooling2D((2, 2)),\n",
        "        layers.Dropout(0.25),\n",
        "\n",
        "        # Third Convolutional Block\n",
        "        layers.Conv2D(128, (3, 3), padding='same', activation='relu',\n",
        "                      kernel_regularizer=regularizers.l2(0.001)),\n",
        "        layers.BatchNormalization(),\n",
        "        layers.MaxPooling2D((2, 2)),\n",
        "        layers.Dropout(0.25),\n",
        "\n",
        "        # Flatten and Dense layers\n",
        "        layers.Flatten(),\n",
        "        layers.Dense(256, activation='relu',\n",
        "                    kernel_regularizer=regularizers.l2(0.001)),\n",
        "        layers.BatchNormalization(),\n",
        "        layers.Dropout(0.5),\n",
        "        layers.Dense(62, activation='softmax')\n",
        "    ])\n",
        "\n",
        "    return model"
      ]
    },
    {
      "cell_type": "code",
      "execution_count": 27,
      "metadata": {
        "colab": {
          "base_uri": "https://localhost:8080/"
        },
        "id": "eFXWKeUN8qrx",
        "outputId": "f22e6cc9-e207-4526-c328-5f333a306858"
      },
      "outputs": [],
      "source": [
        "model = create_improved_model()\n"
      ]
    },
    {
      "cell_type": "code",
      "execution_count": 28,
      "metadata": {
        "id": "NMxkWXC18sYY"
      },
      "outputs": [],
      "source": [
        "optimizer = keras.optimizers.Adam(learning_rate=0.001)\n",
        "model.compile(\n",
        "    optimizer=optimizer,\n",
        "    loss='categorical_crossentropy',\n",
        "    metrics=['accuracy']\n",
        ")"
      ]
    },
    {
      "cell_type": "code",
      "execution_count": 29,
      "metadata": {
        "colab": {
          "base_uri": "https://localhost:8080/",
          "height": 897
        },
        "id": "QjV7WLdj8un1",
        "outputId": "8e337928-98a5-447f-8020-091be85971d8"
      },
      "outputs": [
        {
          "data": {
            "text/html": [
              "<pre style=\"white-space:pre;overflow-x:auto;line-height:normal;font-family:Menlo,'DejaVu Sans Mono',consolas,'Courier New',monospace\"><span style=\"font-weight: bold\">Model: \"sequential_1\"</span>\n",
              "</pre>\n"
            ],
            "text/plain": [
              "\u001b[1mModel: \"sequential_1\"\u001b[0m\n"
            ]
          },
          "metadata": {},
          "output_type": "display_data"
        },
        {
          "data": {
            "text/html": [
              "<pre style=\"white-space:pre;overflow-x:auto;line-height:normal;font-family:Menlo,'DejaVu Sans Mono',consolas,'Courier New',monospace\">┏━━━━━━━━━━━━━━━━━━━━━━━━━━━━━━━━━┳━━━━━━━━━━━━━━━━━━━━━━━━┳━━━━━━━━━━━━━━━┓\n",
              "┃<span style=\"font-weight: bold\"> Layer (type)                    </span>┃<span style=\"font-weight: bold\"> Output Shape           </span>┃<span style=\"font-weight: bold\">       Param # </span>┃\n",
              "┡━━━━━━━━━━━━━━━━━━━━━━━━━━━━━━━━━╇━━━━━━━━━━━━━━━━━━━━━━━━╇━━━━━━━━━━━━━━━┩\n",
              "│ conv2d_5 (<span style=\"color: #0087ff; text-decoration-color: #0087ff\">Conv2D</span>)               │ (<span style=\"color: #00d7ff; text-decoration-color: #00d7ff\">None</span>, <span style=\"color: #00af00; text-decoration-color: #00af00\">28</span>, <span style=\"color: #00af00; text-decoration-color: #00af00\">28</span>, <span style=\"color: #00af00; text-decoration-color: #00af00\">64</span>)     │           <span style=\"color: #00af00; text-decoration-color: #00af00\">640</span> │\n",
              "├─────────────────────────────────┼────────────────────────┼───────────────┤\n",
              "│ batch_normalization_6           │ (<span style=\"color: #00d7ff; text-decoration-color: #00d7ff\">None</span>, <span style=\"color: #00af00; text-decoration-color: #00af00\">28</span>, <span style=\"color: #00af00; text-decoration-color: #00af00\">28</span>, <span style=\"color: #00af00; text-decoration-color: #00af00\">64</span>)     │           <span style=\"color: #00af00; text-decoration-color: #00af00\">256</span> │\n",
              "│ (<span style=\"color: #0087ff; text-decoration-color: #0087ff\">BatchNormalization</span>)            │                        │               │\n",
              "├─────────────────────────────────┼────────────────────────┼───────────────┤\n",
              "│ conv2d_6 (<span style=\"color: #0087ff; text-decoration-color: #0087ff\">Conv2D</span>)               │ (<span style=\"color: #00d7ff; text-decoration-color: #00d7ff\">None</span>, <span style=\"color: #00af00; text-decoration-color: #00af00\">28</span>, <span style=\"color: #00af00; text-decoration-color: #00af00\">28</span>, <span style=\"color: #00af00; text-decoration-color: #00af00\">64</span>)     │        <span style=\"color: #00af00; text-decoration-color: #00af00\">36,928</span> │\n",
              "├─────────────────────────────────┼────────────────────────┼───────────────┤\n",
              "│ batch_normalization_7           │ (<span style=\"color: #00d7ff; text-decoration-color: #00d7ff\">None</span>, <span style=\"color: #00af00; text-decoration-color: #00af00\">28</span>, <span style=\"color: #00af00; text-decoration-color: #00af00\">28</span>, <span style=\"color: #00af00; text-decoration-color: #00af00\">64</span>)     │           <span style=\"color: #00af00; text-decoration-color: #00af00\">256</span> │\n",
              "│ (<span style=\"color: #0087ff; text-decoration-color: #0087ff\">BatchNormalization</span>)            │                        │               │\n",
              "├─────────────────────────────────┼────────────────────────┼───────────────┤\n",
              "│ max_pooling2d_3 (<span style=\"color: #0087ff; text-decoration-color: #0087ff\">MaxPooling2D</span>)  │ (<span style=\"color: #00d7ff; text-decoration-color: #00d7ff\">None</span>, <span style=\"color: #00af00; text-decoration-color: #00af00\">14</span>, <span style=\"color: #00af00; text-decoration-color: #00af00\">14</span>, <span style=\"color: #00af00; text-decoration-color: #00af00\">64</span>)     │             <span style=\"color: #00af00; text-decoration-color: #00af00\">0</span> │\n",
              "├─────────────────────────────────┼────────────────────────┼───────────────┤\n",
              "│ dropout_4 (<span style=\"color: #0087ff; text-decoration-color: #0087ff\">Dropout</span>)             │ (<span style=\"color: #00d7ff; text-decoration-color: #00d7ff\">None</span>, <span style=\"color: #00af00; text-decoration-color: #00af00\">14</span>, <span style=\"color: #00af00; text-decoration-color: #00af00\">14</span>, <span style=\"color: #00af00; text-decoration-color: #00af00\">64</span>)     │             <span style=\"color: #00af00; text-decoration-color: #00af00\">0</span> │\n",
              "├─────────────────────────────────┼────────────────────────┼───────────────┤\n",
              "│ conv2d_7 (<span style=\"color: #0087ff; text-decoration-color: #0087ff\">Conv2D</span>)               │ (<span style=\"color: #00d7ff; text-decoration-color: #00d7ff\">None</span>, <span style=\"color: #00af00; text-decoration-color: #00af00\">14</span>, <span style=\"color: #00af00; text-decoration-color: #00af00\">14</span>, <span style=\"color: #00af00; text-decoration-color: #00af00\">64</span>)     │        <span style=\"color: #00af00; text-decoration-color: #00af00\">36,928</span> │\n",
              "├─────────────────────────────────┼────────────────────────┼───────────────┤\n",
              "│ batch_normalization_8           │ (<span style=\"color: #00d7ff; text-decoration-color: #00d7ff\">None</span>, <span style=\"color: #00af00; text-decoration-color: #00af00\">14</span>, <span style=\"color: #00af00; text-decoration-color: #00af00\">14</span>, <span style=\"color: #00af00; text-decoration-color: #00af00\">64</span>)     │           <span style=\"color: #00af00; text-decoration-color: #00af00\">256</span> │\n",
              "│ (<span style=\"color: #0087ff; text-decoration-color: #0087ff\">BatchNormalization</span>)            │                        │               │\n",
              "├─────────────────────────────────┼────────────────────────┼───────────────┤\n",
              "│ conv2d_8 (<span style=\"color: #0087ff; text-decoration-color: #0087ff\">Conv2D</span>)               │ (<span style=\"color: #00d7ff; text-decoration-color: #00d7ff\">None</span>, <span style=\"color: #00af00; text-decoration-color: #00af00\">14</span>, <span style=\"color: #00af00; text-decoration-color: #00af00\">14</span>, <span style=\"color: #00af00; text-decoration-color: #00af00\">64</span>)     │        <span style=\"color: #00af00; text-decoration-color: #00af00\">36,928</span> │\n",
              "├─────────────────────────────────┼────────────────────────┼───────────────┤\n",
              "│ batch_normalization_9           │ (<span style=\"color: #00d7ff; text-decoration-color: #00d7ff\">None</span>, <span style=\"color: #00af00; text-decoration-color: #00af00\">14</span>, <span style=\"color: #00af00; text-decoration-color: #00af00\">14</span>, <span style=\"color: #00af00; text-decoration-color: #00af00\">64</span>)     │           <span style=\"color: #00af00; text-decoration-color: #00af00\">256</span> │\n",
              "│ (<span style=\"color: #0087ff; text-decoration-color: #0087ff\">BatchNormalization</span>)            │                        │               │\n",
              "├─────────────────────────────────┼────────────────────────┼───────────────┤\n",
              "│ max_pooling2d_4 (<span style=\"color: #0087ff; text-decoration-color: #0087ff\">MaxPooling2D</span>)  │ (<span style=\"color: #00d7ff; text-decoration-color: #00d7ff\">None</span>, <span style=\"color: #00af00; text-decoration-color: #00af00\">7</span>, <span style=\"color: #00af00; text-decoration-color: #00af00\">7</span>, <span style=\"color: #00af00; text-decoration-color: #00af00\">64</span>)       │             <span style=\"color: #00af00; text-decoration-color: #00af00\">0</span> │\n",
              "├─────────────────────────────────┼────────────────────────┼───────────────┤\n",
              "│ dropout_5 (<span style=\"color: #0087ff; text-decoration-color: #0087ff\">Dropout</span>)             │ (<span style=\"color: #00d7ff; text-decoration-color: #00d7ff\">None</span>, <span style=\"color: #00af00; text-decoration-color: #00af00\">7</span>, <span style=\"color: #00af00; text-decoration-color: #00af00\">7</span>, <span style=\"color: #00af00; text-decoration-color: #00af00\">64</span>)       │             <span style=\"color: #00af00; text-decoration-color: #00af00\">0</span> │\n",
              "├─────────────────────────────────┼────────────────────────┼───────────────┤\n",
              "│ conv2d_9 (<span style=\"color: #0087ff; text-decoration-color: #0087ff\">Conv2D</span>)               │ (<span style=\"color: #00d7ff; text-decoration-color: #00d7ff\">None</span>, <span style=\"color: #00af00; text-decoration-color: #00af00\">7</span>, <span style=\"color: #00af00; text-decoration-color: #00af00\">7</span>, <span style=\"color: #00af00; text-decoration-color: #00af00\">128</span>)      │        <span style=\"color: #00af00; text-decoration-color: #00af00\">73,856</span> │\n",
              "├─────────────────────────────────┼────────────────────────┼───────────────┤\n",
              "│ batch_normalization_10          │ (<span style=\"color: #00d7ff; text-decoration-color: #00d7ff\">None</span>, <span style=\"color: #00af00; text-decoration-color: #00af00\">7</span>, <span style=\"color: #00af00; text-decoration-color: #00af00\">7</span>, <span style=\"color: #00af00; text-decoration-color: #00af00\">128</span>)      │           <span style=\"color: #00af00; text-decoration-color: #00af00\">512</span> │\n",
              "│ (<span style=\"color: #0087ff; text-decoration-color: #0087ff\">BatchNormalization</span>)            │                        │               │\n",
              "├─────────────────────────────────┼────────────────────────┼───────────────┤\n",
              "│ max_pooling2d_5 (<span style=\"color: #0087ff; text-decoration-color: #0087ff\">MaxPooling2D</span>)  │ (<span style=\"color: #00d7ff; text-decoration-color: #00d7ff\">None</span>, <span style=\"color: #00af00; text-decoration-color: #00af00\">3</span>, <span style=\"color: #00af00; text-decoration-color: #00af00\">3</span>, <span style=\"color: #00af00; text-decoration-color: #00af00\">128</span>)      │             <span style=\"color: #00af00; text-decoration-color: #00af00\">0</span> │\n",
              "├─────────────────────────────────┼────────────────────────┼───────────────┤\n",
              "│ dropout_6 (<span style=\"color: #0087ff; text-decoration-color: #0087ff\">Dropout</span>)             │ (<span style=\"color: #00d7ff; text-decoration-color: #00d7ff\">None</span>, <span style=\"color: #00af00; text-decoration-color: #00af00\">3</span>, <span style=\"color: #00af00; text-decoration-color: #00af00\">3</span>, <span style=\"color: #00af00; text-decoration-color: #00af00\">128</span>)      │             <span style=\"color: #00af00; text-decoration-color: #00af00\">0</span> │\n",
              "├─────────────────────────────────┼────────────────────────┼───────────────┤\n",
              "│ flatten_1 (<span style=\"color: #0087ff; text-decoration-color: #0087ff\">Flatten</span>)             │ (<span style=\"color: #00d7ff; text-decoration-color: #00d7ff\">None</span>, <span style=\"color: #00af00; text-decoration-color: #00af00\">1152</span>)           │             <span style=\"color: #00af00; text-decoration-color: #00af00\">0</span> │\n",
              "├─────────────────────────────────┼────────────────────────┼───────────────┤\n",
              "│ dense_2 (<span style=\"color: #0087ff; text-decoration-color: #0087ff\">Dense</span>)                 │ (<span style=\"color: #00d7ff; text-decoration-color: #00d7ff\">None</span>, <span style=\"color: #00af00; text-decoration-color: #00af00\">256</span>)            │       <span style=\"color: #00af00; text-decoration-color: #00af00\">295,168</span> │\n",
              "├─────────────────────────────────┼────────────────────────┼───────────────┤\n",
              "│ batch_normalization_11          │ (<span style=\"color: #00d7ff; text-decoration-color: #00d7ff\">None</span>, <span style=\"color: #00af00; text-decoration-color: #00af00\">256</span>)            │         <span style=\"color: #00af00; text-decoration-color: #00af00\">1,024</span> │\n",
              "│ (<span style=\"color: #0087ff; text-decoration-color: #0087ff\">BatchNormalization</span>)            │                        │               │\n",
              "├─────────────────────────────────┼────────────────────────┼───────────────┤\n",
              "│ dropout_7 (<span style=\"color: #0087ff; text-decoration-color: #0087ff\">Dropout</span>)             │ (<span style=\"color: #00d7ff; text-decoration-color: #00d7ff\">None</span>, <span style=\"color: #00af00; text-decoration-color: #00af00\">256</span>)            │             <span style=\"color: #00af00; text-decoration-color: #00af00\">0</span> │\n",
              "├─────────────────────────────────┼────────────────────────┼───────────────┤\n",
              "│ dense_3 (<span style=\"color: #0087ff; text-decoration-color: #0087ff\">Dense</span>)                 │ (<span style=\"color: #00d7ff; text-decoration-color: #00d7ff\">None</span>, <span style=\"color: #00af00; text-decoration-color: #00af00\">62</span>)             │        <span style=\"color: #00af00; text-decoration-color: #00af00\">15,934</span> │\n",
              "└─────────────────────────────────┴────────────────────────┴───────────────┘\n",
              "</pre>\n"
            ],
            "text/plain": [
              "┏━━━━━━━━━━━━━━━━━━━━━━━━━━━━━━━━━┳━━━━━━━━━━━━━━━━━━━━━━━━┳━━━━━━━━━━━━━━━┓\n",
              "┃\u001b[1m \u001b[0m\u001b[1mLayer (type)                   \u001b[0m\u001b[1m \u001b[0m┃\u001b[1m \u001b[0m\u001b[1mOutput Shape          \u001b[0m\u001b[1m \u001b[0m┃\u001b[1m \u001b[0m\u001b[1m      Param #\u001b[0m\u001b[1m \u001b[0m┃\n",
              "┡━━━━━━━━━━━━━━━━━━━━━━━━━━━━━━━━━╇━━━━━━━━━━━━━━━━━━━━━━━━╇━━━━━━━━━━━━━━━┩\n",
              "│ conv2d_5 (\u001b[38;5;33mConv2D\u001b[0m)               │ (\u001b[38;5;45mNone\u001b[0m, \u001b[38;5;34m28\u001b[0m, \u001b[38;5;34m28\u001b[0m, \u001b[38;5;34m64\u001b[0m)     │           \u001b[38;5;34m640\u001b[0m │\n",
              "├─────────────────────────────────┼────────────────────────┼───────────────┤\n",
              "│ batch_normalization_6           │ (\u001b[38;5;45mNone\u001b[0m, \u001b[38;5;34m28\u001b[0m, \u001b[38;5;34m28\u001b[0m, \u001b[38;5;34m64\u001b[0m)     │           \u001b[38;5;34m256\u001b[0m │\n",
              "│ (\u001b[38;5;33mBatchNormalization\u001b[0m)            │                        │               │\n",
              "├─────────────────────────────────┼────────────────────────┼───────────────┤\n",
              "│ conv2d_6 (\u001b[38;5;33mConv2D\u001b[0m)               │ (\u001b[38;5;45mNone\u001b[0m, \u001b[38;5;34m28\u001b[0m, \u001b[38;5;34m28\u001b[0m, \u001b[38;5;34m64\u001b[0m)     │        \u001b[38;5;34m36,928\u001b[0m │\n",
              "├─────────────────────────────────┼────────────────────────┼───────────────┤\n",
              "│ batch_normalization_7           │ (\u001b[38;5;45mNone\u001b[0m, \u001b[38;5;34m28\u001b[0m, \u001b[38;5;34m28\u001b[0m, \u001b[38;5;34m64\u001b[0m)     │           \u001b[38;5;34m256\u001b[0m │\n",
              "│ (\u001b[38;5;33mBatchNormalization\u001b[0m)            │                        │               │\n",
              "├─────────────────────────────────┼────────────────────────┼───────────────┤\n",
              "│ max_pooling2d_3 (\u001b[38;5;33mMaxPooling2D\u001b[0m)  │ (\u001b[38;5;45mNone\u001b[0m, \u001b[38;5;34m14\u001b[0m, \u001b[38;5;34m14\u001b[0m, \u001b[38;5;34m64\u001b[0m)     │             \u001b[38;5;34m0\u001b[0m │\n",
              "├─────────────────────────────────┼────────────────────────┼───────────────┤\n",
              "│ dropout_4 (\u001b[38;5;33mDropout\u001b[0m)             │ (\u001b[38;5;45mNone\u001b[0m, \u001b[38;5;34m14\u001b[0m, \u001b[38;5;34m14\u001b[0m, \u001b[38;5;34m64\u001b[0m)     │             \u001b[38;5;34m0\u001b[0m │\n",
              "├─────────────────────────────────┼────────────────────────┼───────────────┤\n",
              "│ conv2d_7 (\u001b[38;5;33mConv2D\u001b[0m)               │ (\u001b[38;5;45mNone\u001b[0m, \u001b[38;5;34m14\u001b[0m, \u001b[38;5;34m14\u001b[0m, \u001b[38;5;34m64\u001b[0m)     │        \u001b[38;5;34m36,928\u001b[0m │\n",
              "├─────────────────────────────────┼────────────────────────┼───────────────┤\n",
              "│ batch_normalization_8           │ (\u001b[38;5;45mNone\u001b[0m, \u001b[38;5;34m14\u001b[0m, \u001b[38;5;34m14\u001b[0m, \u001b[38;5;34m64\u001b[0m)     │           \u001b[38;5;34m256\u001b[0m │\n",
              "│ (\u001b[38;5;33mBatchNormalization\u001b[0m)            │                        │               │\n",
              "├─────────────────────────────────┼────────────────────────┼───────────────┤\n",
              "│ conv2d_8 (\u001b[38;5;33mConv2D\u001b[0m)               │ (\u001b[38;5;45mNone\u001b[0m, \u001b[38;5;34m14\u001b[0m, \u001b[38;5;34m14\u001b[0m, \u001b[38;5;34m64\u001b[0m)     │        \u001b[38;5;34m36,928\u001b[0m │\n",
              "├─────────────────────────────────┼────────────────────────┼───────────────┤\n",
              "│ batch_normalization_9           │ (\u001b[38;5;45mNone\u001b[0m, \u001b[38;5;34m14\u001b[0m, \u001b[38;5;34m14\u001b[0m, \u001b[38;5;34m64\u001b[0m)     │           \u001b[38;5;34m256\u001b[0m │\n",
              "│ (\u001b[38;5;33mBatchNormalization\u001b[0m)            │                        │               │\n",
              "├─────────────────────────────────┼────────────────────────┼───────────────┤\n",
              "│ max_pooling2d_4 (\u001b[38;5;33mMaxPooling2D\u001b[0m)  │ (\u001b[38;5;45mNone\u001b[0m, \u001b[38;5;34m7\u001b[0m, \u001b[38;5;34m7\u001b[0m, \u001b[38;5;34m64\u001b[0m)       │             \u001b[38;5;34m0\u001b[0m │\n",
              "├─────────────────────────────────┼────────────────────────┼───────────────┤\n",
              "│ dropout_5 (\u001b[38;5;33mDropout\u001b[0m)             │ (\u001b[38;5;45mNone\u001b[0m, \u001b[38;5;34m7\u001b[0m, \u001b[38;5;34m7\u001b[0m, \u001b[38;5;34m64\u001b[0m)       │             \u001b[38;5;34m0\u001b[0m │\n",
              "├─────────────────────────────────┼────────────────────────┼───────────────┤\n",
              "│ conv2d_9 (\u001b[38;5;33mConv2D\u001b[0m)               │ (\u001b[38;5;45mNone\u001b[0m, \u001b[38;5;34m7\u001b[0m, \u001b[38;5;34m7\u001b[0m, \u001b[38;5;34m128\u001b[0m)      │        \u001b[38;5;34m73,856\u001b[0m │\n",
              "├─────────────────────────────────┼────────────────────────┼───────────────┤\n",
              "│ batch_normalization_10          │ (\u001b[38;5;45mNone\u001b[0m, \u001b[38;5;34m7\u001b[0m, \u001b[38;5;34m7\u001b[0m, \u001b[38;5;34m128\u001b[0m)      │           \u001b[38;5;34m512\u001b[0m │\n",
              "│ (\u001b[38;5;33mBatchNormalization\u001b[0m)            │                        │               │\n",
              "├─────────────────────────────────┼────────────────────────┼───────────────┤\n",
              "│ max_pooling2d_5 (\u001b[38;5;33mMaxPooling2D\u001b[0m)  │ (\u001b[38;5;45mNone\u001b[0m, \u001b[38;5;34m3\u001b[0m, \u001b[38;5;34m3\u001b[0m, \u001b[38;5;34m128\u001b[0m)      │             \u001b[38;5;34m0\u001b[0m │\n",
              "├─────────────────────────────────┼────────────────────────┼───────────────┤\n",
              "│ dropout_6 (\u001b[38;5;33mDropout\u001b[0m)             │ (\u001b[38;5;45mNone\u001b[0m, \u001b[38;5;34m3\u001b[0m, \u001b[38;5;34m3\u001b[0m, \u001b[38;5;34m128\u001b[0m)      │             \u001b[38;5;34m0\u001b[0m │\n",
              "├─────────────────────────────────┼────────────────────────┼───────────────┤\n",
              "│ flatten_1 (\u001b[38;5;33mFlatten\u001b[0m)             │ (\u001b[38;5;45mNone\u001b[0m, \u001b[38;5;34m1152\u001b[0m)           │             \u001b[38;5;34m0\u001b[0m │\n",
              "├─────────────────────────────────┼────────────────────────┼───────────────┤\n",
              "│ dense_2 (\u001b[38;5;33mDense\u001b[0m)                 │ (\u001b[38;5;45mNone\u001b[0m, \u001b[38;5;34m256\u001b[0m)            │       \u001b[38;5;34m295,168\u001b[0m │\n",
              "├─────────────────────────────────┼────────────────────────┼───────────────┤\n",
              "│ batch_normalization_11          │ (\u001b[38;5;45mNone\u001b[0m, \u001b[38;5;34m256\u001b[0m)            │         \u001b[38;5;34m1,024\u001b[0m │\n",
              "│ (\u001b[38;5;33mBatchNormalization\u001b[0m)            │                        │               │\n",
              "├─────────────────────────────────┼────────────────────────┼───────────────┤\n",
              "│ dropout_7 (\u001b[38;5;33mDropout\u001b[0m)             │ (\u001b[38;5;45mNone\u001b[0m, \u001b[38;5;34m256\u001b[0m)            │             \u001b[38;5;34m0\u001b[0m │\n",
              "├─────────────────────────────────┼────────────────────────┼───────────────┤\n",
              "│ dense_3 (\u001b[38;5;33mDense\u001b[0m)                 │ (\u001b[38;5;45mNone\u001b[0m, \u001b[38;5;34m62\u001b[0m)             │        \u001b[38;5;34m15,934\u001b[0m │\n",
              "└─────────────────────────────────┴────────────────────────┴───────────────┘\n"
            ]
          },
          "metadata": {},
          "output_type": "display_data"
        },
        {
          "data": {
            "text/html": [
              "<pre style=\"white-space:pre;overflow-x:auto;line-height:normal;font-family:Menlo,'DejaVu Sans Mono',consolas,'Courier New',monospace\"><span style=\"font-weight: bold\"> Total params: </span><span style=\"color: #00af00; text-decoration-color: #00af00\">498,942</span> (1.90 MB)\n",
              "</pre>\n"
            ],
            "text/plain": [
              "\u001b[1m Total params: \u001b[0m\u001b[38;5;34m498,942\u001b[0m (1.90 MB)\n"
            ]
          },
          "metadata": {},
          "output_type": "display_data"
        },
        {
          "data": {
            "text/html": [
              "<pre style=\"white-space:pre;overflow-x:auto;line-height:normal;font-family:Menlo,'DejaVu Sans Mono',consolas,'Courier New',monospace\"><span style=\"font-weight: bold\"> Trainable params: </span><span style=\"color: #00af00; text-decoration-color: #00af00\">497,662</span> (1.90 MB)\n",
              "</pre>\n"
            ],
            "text/plain": [
              "\u001b[1m Trainable params: \u001b[0m\u001b[38;5;34m497,662\u001b[0m (1.90 MB)\n"
            ]
          },
          "metadata": {},
          "output_type": "display_data"
        },
        {
          "data": {
            "text/html": [
              "<pre style=\"white-space:pre;overflow-x:auto;line-height:normal;font-family:Menlo,'DejaVu Sans Mono',consolas,'Courier New',monospace\"><span style=\"font-weight: bold\"> Non-trainable params: </span><span style=\"color: #00af00; text-decoration-color: #00af00\">1,280</span> (5.00 KB)\n",
              "</pre>\n"
            ],
            "text/plain": [
              "\u001b[1m Non-trainable params: \u001b[0m\u001b[38;5;34m1,280\u001b[0m (5.00 KB)\n"
            ]
          },
          "metadata": {},
          "output_type": "display_data"
        }
      ],
      "source": [
        "model.summary()"
      ]
    },
    {
      "cell_type": "code",
      "execution_count": 30,
      "metadata": {
        "id": "H4Uxzzly8wJE"
      },
      "outputs": [],
      "source": [
        "early_stopping = EarlyStopping(\n",
        "    monitor='val_loss',\n",
        "    patience=4,\n",
        "    restore_best_weights=True,\n",
        "    verbose=1\n",
        ")"
      ]
    },
    {
      "cell_type": "code",
      "execution_count": 31,
      "metadata": {
        "id": "ibKR0slq8ywf"
      },
      "outputs": [],
      "source": [
        "reduce_lr = ReduceLROnPlateau(\n",
        "    monitor='val_loss',\n",
        "    factor=0.5,\n",
        "    patience=5,\n",
        "    min_lr=1e-6,\n",
        "    verbose=1\n",
        ")"
      ]
    },
    {
      "cell_type": "code",
      "execution_count": 32,
      "metadata": {
        "id": "ApqNq0mz80XX"
      },
      "outputs": [],
      "source": [
        "model_checkpoint = ModelCheckpoint(\n",
        "    'best_emnist_model.h5',\n",
        "    monitor='val_accuracy',\n",
        "    save_best_only=True,\n",
        "    verbose=1\n",
        ")"
      ]
    },
    {
      "cell_type": "code",
      "execution_count": 33,
      "metadata": {
        "colab": {
          "base_uri": "https://localhost:8080/"
        },
        "id": "KPcWCMZ382QR",
        "outputId": "67abb924-84af-49eb-bb25-a71bde32970a"
      },
      "outputs": [
        {
          "name": "stdout",
          "output_type": "stream",
          "text": [
            "Epoch 1/20\n",
            "\u001b[1m1594/1594\u001b[0m \u001b[32m━━━━━━━━━━━━━━━━━━━━\u001b[0m\u001b[37m\u001b[0m \u001b[1m0s\u001b[0m 290ms/step - accuracy: 0.3706 - loss: 3.2374\n",
            "Epoch 1: val_accuracy improved from -inf to 0.77294, saving model to best_emnist_model.h5\n"
          ]
        },
        {
          "name": "stderr",
          "output_type": "stream",
          "text": [
            "WARNING:absl:You are saving your model as an HDF5 file via `model.save()` or `keras.saving.save_model(model)`. This file format is considered legacy. We recommend using instead the native Keras format, e.g. `model.save('my_model.keras')` or `keras.saving.save_model(model, 'my_model.keras')`. \n"
          ]
        },
        {
          "name": "stdout",
          "output_type": "stream",
          "text": [
            "\u001b[1m1594/1594\u001b[0m \u001b[32m━━━━━━━━━━━━━━━━━━━━\u001b[0m\u001b[37m\u001b[0m \u001b[1m493s\u001b[0m 306ms/step - accuracy: 0.3706 - loss: 3.2369 - val_accuracy: 0.7729 - val_loss: 1.2553 - learning_rate: 0.0010\n",
            "Epoch 2/20\n",
            "\u001b[1m1594/1594\u001b[0m \u001b[32m━━━━━━━━━━━━━━━━━━━━\u001b[0m\u001b[37m\u001b[0m \u001b[1m0s\u001b[0m 350ms/step - accuracy: 0.6622 - loss: 1.5763\n",
            "Epoch 2: val_accuracy did not improve from 0.77294\n",
            "\u001b[1m1594/1594\u001b[0m \u001b[32m━━━━━━━━━━━━━━━━━━━━\u001b[0m\u001b[37m\u001b[0m \u001b[1m593s\u001b[0m 372ms/step - accuracy: 0.6622 - loss: 1.5763 - val_accuracy: 0.7302 - val_loss: 1.1164 - learning_rate: 0.0010\n",
            "Epoch 3/20\n",
            "\u001b[1m1594/1594\u001b[0m \u001b[32m━━━━━━━━━━━━━━━━━━━━\u001b[0m\u001b[37m\u001b[0m \u001b[1m0s\u001b[0m 346ms/step - accuracy: 0.6803 - loss: 1.3794\n",
            "Epoch 3: val_accuracy improved from 0.77294 to 0.79383, saving model to best_emnist_model.h5\n"
          ]
        },
        {
          "name": "stderr",
          "output_type": "stream",
          "text": [
            "WARNING:absl:You are saving your model as an HDF5 file via `model.save()` or `keras.saving.save_model(model)`. This file format is considered legacy. We recommend using instead the native Keras format, e.g. `model.save('my_model.keras')` or `keras.saving.save_model(model, 'my_model.keras')`. \n"
          ]
        },
        {
          "name": "stdout",
          "output_type": "stream",
          "text": [
            "\u001b[1m1594/1594\u001b[0m \u001b[32m━━━━━━━━━━━━━━━━━━━━\u001b[0m\u001b[37m\u001b[0m \u001b[1m577s\u001b[0m 362ms/step - accuracy: 0.6803 - loss: 1.3794 - val_accuracy: 0.7938 - val_loss: 0.9920 - learning_rate: 0.0010\n",
            "Epoch 4/20\n",
            "\u001b[1m1594/1594\u001b[0m \u001b[32m━━━━━━━━━━━━━━━━━━━━\u001b[0m\u001b[37m\u001b[0m \u001b[1m0s\u001b[0m 330ms/step - accuracy: 0.6844 - loss: 1.3215\n",
            "Epoch 4: val_accuracy did not improve from 0.79383\n",
            "\u001b[1m1594/1594\u001b[0m \u001b[32m━━━━━━━━━━━━━━━━━━━━\u001b[0m\u001b[37m\u001b[0m \u001b[1m550s\u001b[0m 345ms/step - accuracy: 0.6844 - loss: 1.3215 - val_accuracy: 0.7406 - val_loss: 1.1099 - learning_rate: 0.0010\n",
            "Epoch 5/20\n",
            "\u001b[1m1594/1594\u001b[0m \u001b[32m━━━━━━━━━━━━━━━━━━━━\u001b[0m\u001b[37m\u001b[0m \u001b[1m0s\u001b[0m 1s/step - accuracy: 0.7004 - loss: 1.2872\n",
            "Epoch 5: val_accuracy did not improve from 0.79383\n",
            "\u001b[1m1594/1594\u001b[0m \u001b[32m━━━━━━━━━━━━━━━━━━━━\u001b[0m\u001b[37m\u001b[0m \u001b[1m2118s\u001b[0m 1s/step - accuracy: 0.7004 - loss: 1.2872 - val_accuracy: 0.7782 - val_loss: 0.9970 - learning_rate: 0.0010\n",
            "Epoch 6/20\n",
            "\u001b[1m1594/1594\u001b[0m \u001b[32m━━━━━━━━━━━━━━━━━━━━\u001b[0m\u001b[37m\u001b[0m \u001b[1m0s\u001b[0m 493ms/step - accuracy: 0.7000 - loss: 1.2739\n",
            "Epoch 6: val_accuracy did not improve from 0.79383\n",
            "\u001b[1m1594/1594\u001b[0m \u001b[32m━━━━━━━━━━━━━━━━━━━━\u001b[0m\u001b[37m\u001b[0m \u001b[1m798s\u001b[0m 501ms/step - accuracy: 0.7000 - loss: 1.2739 - val_accuracy: 0.7354 - val_loss: 1.0728 - learning_rate: 0.0010\n",
            "Epoch 7/20\n",
            "\u001b[1m1594/1594\u001b[0m \u001b[32m━━━━━━━━━━━━━━━━━━━━\u001b[0m\u001b[37m\u001b[0m \u001b[1m0s\u001b[0m 237ms/step - accuracy: 0.7042 - loss: 1.2490\n",
            "Epoch 7: val_accuracy did not improve from 0.79383\n",
            "\u001b[1m1594/1594\u001b[0m \u001b[32m━━━━━━━━━━━━━━━━━━━━\u001b[0m\u001b[37m\u001b[0m \u001b[1m390s\u001b[0m 245ms/step - accuracy: 0.7042 - loss: 1.2490 - val_accuracy: 0.7671 - val_loss: 1.0079 - learning_rate: 0.0010\n",
            "Epoch 7: early stopping\n",
            "Restoring model weights from the end of the best epoch: 3.\n"
          ]
        }
      ],
      "source": [
        "history = model.fit(\n",
        "    datagen.flow(x_train, y_train_onehot, batch_size=64),\n",
        "    epochs=20,\n",
        "    validation_data=(x_val, y_val_onehot),\n",
        "    callbacks=[early_stopping, reduce_lr, model_checkpoint],\n",
        "    class_weight=class_weight_dict,\n",
        "    verbose=1\n",
        ")"
      ]
    },
    {
      "cell_type": "code",
      "execution_count": 34,
      "metadata": {
        "colab": {
          "base_uri": "https://localhost:8080/"
        },
        "id": "ZfsgbYK584HM",
        "outputId": "acb9d75d-8319-4cd3-ee9b-e6abb1260387"
      },
      "outputs": [
        {
          "name": "stderr",
          "output_type": "stream",
          "text": [
            "WARNING:absl:Compiled the loaded model, but the compiled metrics have yet to be built. `model.compile_metrics` will be empty until you train or evaluate the model.\n"
          ]
        }
      ],
      "source": [
        "model = keras.models.load_model('best_emnist_model.h5')"
      ]
    },
    {
      "cell_type": "code",
      "execution_count": 35,
      "metadata": {
        "colab": {
          "base_uri": "https://localhost:8080/"
        },
        "id": "4Hd1svRp89yA",
        "outputId": "d194cb55-8502-495d-ec7f-893f2a8ee2b1"
      },
      "outputs": [
        {
          "name": "stdout",
          "output_type": "stream",
          "text": [
            "\u001b[1m625/625\u001b[0m \u001b[32m━━━━━━━━━━━━━━━━━━━━\u001b[0m\u001b[37m\u001b[0m \u001b[1m15s\u001b[0m 22ms/step - accuracy: 0.7983 - loss: 0.9836\n",
            "Test accuracy: 0.7975\n",
            "Test loss: 0.9881\n"
          ]
        }
      ],
      "source": [
        "test_loss, test_acc = model.evaluate(x_test, y_test_onehot, verbose=1)\n",
        "print(f'Test accuracy: {test_acc:.4f}')\n",
        "print(f'Test loss: {test_loss:.4f}')"
      ]
    },
    {
      "cell_type": "code",
      "execution_count": 36,
      "metadata": {
        "colab": {
          "base_uri": "https://localhost:8080/",
          "height": 427
        },
        "id": "cV24GhXh8_zk",
        "outputId": "33d11bb0-daa2-43c6-c1d1-8455068f9705"
      },
      "outputs": [
        {
          "data": {
            "text/plain": [
              "<matplotlib.legend.Legend at 0x229457b03d0>"
            ]
          },
          "execution_count": 36,
          "metadata": {},
          "output_type": "execute_result"
        },
        {
          "data": {
            "image/png": "[encoded data removed]",
            "text/plain": [
              "<Figure size 1200x400 with 1 Axes>"
            ]
          },
          "metadata": {},
          "output_type": "display_data"
        }
      ],
      "source": [
        "plt.figure(figsize=(12, 4))\n",
        "plt.subplot(1, 2, 1)\n",
        "plt.plot(history.history['accuracy'], label='Training Accuracy')\n",
        "plt.plot(history.history['val_accuracy'], label='Validation Accuracy')\n",
        "plt.title('Accuracy')\n",
        "plt.xlabel('Epoch')\n",
        "plt.ylabel('Accuracy')\n",
        "plt.legend()"
      ]
    },
    {
      "cell_type": "code",
      "execution_count": 37,
      "metadata": {
        "id": "XHGMwtlU9Cva"
      },
      "outputs": [],
      "source": [
        "plt.subplot(1, 2, 2)\n",
        "plt.plot(history.history['loss'], label='Training Loss')\n",
        "plt.plot(history.history['val_loss'], label='Validation Loss')\n",
        "plt.title('Loss')\n",
        "plt.xlabel('Epoch')\n",
        "plt.ylabel('Loss')\n",
        "plt.legend()\n",
        "plt.tight_layout()\n",
        "plt.savefig('training_history.png')\n",
        "plt.close()"
      ]
    },
    {
      "cell_type": "code",
      "execution_count": 38,
      "metadata": {
        "colab": {
          "base_uri": "https://localhost:8080/"
        },
        "id": "kyxtFX8k9FQq",
        "outputId": "805b5742-636c-4e9a-d877-275e492bf88b"
      },
      "outputs": [
        {
          "name": "stdout",
          "output_type": "stream",
          "text": [
            "\u001b[1m625/625\u001b[0m \u001b[32m━━━━━━━━━━━━━━━━━━━━\u001b[0m\u001b[37m\u001b[0m \u001b[1m13s\u001b[0m 20ms/step\n"
          ]
        }
      ],
      "source": [
        "y_pred = model.predict(x_test)\n",
        "y_pred_classes = np.argmax(y_pred, axis=1)\n",
        "y_true_classes = np.argmax(y_test_onehot, axis=1)"
      ]
    },
    {
      "cell_type": "code",
      "execution_count": 39,
      "metadata": {
        "colab": {
          "base_uri": "https://localhost:8080/"
        },
        "id": "FjPNn4MI9HoD",
        "outputId": "cc2d9d2c-e755-43a6-b2e6-aacf3cfcd02c"
      },
      "outputs": [
        {
          "name": "stdout",
          "output_type": "stream",
          "text": [
            "\n",
            "Classification Report:\n",
            "              precision    recall  f1-score   support\n",
            "\n",
            "           0       0.63      0.84      0.72       951\n",
            "           1       0.67      0.79      0.73      1090\n",
            "           2       0.96      0.82      0.89      1004\n",
            "           3       0.99      0.99      0.99      1070\n",
            "           4       0.98      0.85      0.91       997\n",
            "           5       0.92      0.90      0.91       883\n",
            "           6       0.99      0.84      0.91       975\n",
            "           7       0.99      0.96      0.97      1047\n",
            "           8       0.98      0.90      0.94       958\n",
            "           9       0.95      0.88      0.91       963\n",
            "          10       0.97      0.93      0.95       199\n",
            "          11       0.70      0.95      0.81       109\n",
            "          12       0.84      0.50      0.63       312\n",
            "          13       0.84      0.83      0.84       143\n",
            "          14       0.98      0.94      0.96       154\n",
            "          15       0.77      0.92      0.84       242\n",
            "          16       0.71      0.97      0.82        75\n",
            "          17       0.74      0.94      0.83        79\n",
            "          18       0.48      0.50      0.49       340\n",
            "          19       0.79      0.74      0.76       112\n",
            "          20       0.59      0.87      0.70        69\n",
            "          21       0.76      0.95      0.84       146\n",
            "          22       0.92      0.31      0.46       252\n",
            "          23       0.90      0.98      0.93       256\n",
            "          24       0.68      0.39      0.50       737\n",
            "          25       0.87      0.46      0.61       213\n",
            "          26       0.88      0.87      0.88        69\n",
            "          27       0.89      0.96      0.92       127\n",
            "          28       0.81      0.70      0.75       596\n",
            "          29       0.88      0.97      0.92       273\n",
            "          30       0.78      0.71      0.75       356\n",
            "          31       0.52      0.79      0.63       121\n",
            "          32       0.80      0.67      0.73       136\n",
            "          33       0.57      0.90      0.70        73\n",
            "          34       0.57      0.82      0.67       137\n",
            "          35       0.47      0.72      0.57        96\n",
            "          36       0.87      0.84      0.85       270\n",
            "          37       0.47      0.93      0.62       125\n",
            "          38       0.21      0.62      0.32        63\n",
            "          39       0.97      0.95      0.96       308\n",
            "          40       0.98      0.97      0.98       694\n",
            "          41       0.29      0.03      0.05        69\n",
            "          42       0.52      0.60      0.56        96\n",
            "          43       0.92      0.95      0.94       280\n",
            "          44       0.40      0.51      0.45        71\n",
            "          45       0.45      0.81      0.58        53\n",
            "          46       0.76      0.48      0.59        79\n",
            "          47       0.40      0.17      0.24       451\n",
            "          48       0.30      0.88      0.45        86\n",
            "          49       0.94      0.92      0.93       342\n",
            "          50       0.12      0.11      0.11        95\n",
            "          51       0.27      0.81      0.40        54\n",
            "          52       0.29      0.45      0.35        80\n",
            "          53       0.97      0.92      0.95       397\n",
            "          54       0.19      0.40      0.26        72\n",
            "          55       0.95      0.92      0.93       502\n",
            "          56       0.29      0.38      0.33        84\n",
            "          57       0.38      0.17      0.23        83\n",
            "          58       0.53      0.80      0.64        70\n",
            "          59       0.68      0.43      0.53        70\n",
            "          60       0.18      0.37      0.24        62\n",
            "          61       0.29      0.67      0.41        84\n",
            "\n",
            "    accuracy                           0.80     20000\n",
            "   macro avg       0.68      0.73      0.68     20000\n",
            "weighted avg       0.83      0.80      0.80     20000\n",
            "\n"
          ]
        }
      ],
      "source": [
        "print(\"\\nClassification Report:\")\n",
        "print(classification_report(y_true_classes, y_pred_classes))"
      ]
    },
    {
      "cell_type": "code",
      "execution_count": 40,
      "metadata": {
        "colab": {
          "base_uri": "https://localhost:8080/",
          "height": 34
        },
        "id": "agyefAHQ9LT2",
        "outputId": "273d55c8-6843-4696-e7e9-41961bf787a1"
      },
      "outputs": [
        {
          "data": {
            "text/plain": [
              "<Figure size 1200x1000 with 0 Axes>"
            ]
          },
          "metadata": {},
          "output_type": "display_data"
        }
      ],
      "source": [
        "plt.figure(figsize=(12, 10))\n",
        "cm = confusion_matrix(y_true_classes, y_pred_classes)"
      ]
    },
    {
      "cell_type": "code",
      "execution_count": 41,
      "metadata": {
        "id": "QvCz2HRh9NFy"
      },
      "outputs": [],
      "source": [
        "cm_norm = cm.astype('float') / cm.sum(axis=1)[:, np.newaxis]"
      ]
    },
    {
      "cell_type": "code",
      "execution_count": 42,
      "metadata": {
        "id": "KLfAKzQY9OtS"
      },
      "outputs": [],
      "source": [
        "sns.heatmap(cm_norm[:10, :10], annot=True, fmt='.2f', cmap='Blues')\n",
        "plt.xlabel('Predicted')\n",
        "plt.ylabel('True')\n",
        "plt.title('Confusion Matrix (First 10 Classes)')\n",
        "plt.savefig('confusion_matrix.png')\n",
        "plt.close()"
      ]
    },
    {
      "cell_type": "code",
      "execution_count": 43,
      "metadata": {
        "id": "SNBgar3W9Rc3"
      },
      "outputs": [],
      "source": [
        "misclassified_indices = np.where(y_pred_classes != y_true_classes)[0]\n",
        "num_to_display = min(25, len(misclassified_indices))\n",
        "selected_indices = np.random.choice(misclassified_indices, num_to_display, replace=False)\n"
      ]
    },
    {
      "cell_type": "code",
      "execution_count": 44,
      "metadata": {
        "id": "-krrTFu39T6a"
      },
      "outputs": [],
      "source": [
        "plt.figure(figsize=(12, 12))\n",
        "for i, idx in enumerate(selected_indices):\n",
        "    plt.subplot(5, 5, i+1)\n",
        "    plt.imshow(x_test[idx].reshape(28, 28), cmap='gray')\n",
        "    plt.title(f'True: {y_true_classes[idx]}\\nPred: {y_pred_classes[idx]}')\n",
        "    plt.axis('off')\n",
        "plt.tight_layout()\n",
        "plt.savefig('misclassified_examples.png')\n",
        "plt.close()"
      ]
    },
    {
      "cell_type": "code",
      "execution_count": 45,
      "metadata": {
        "colab": {
          "base_uri": "https://localhost:8080/"
        },
        "id": "KTeBnQt69Xyb",
        "outputId": "26e1d7ca-b2e3-4edf-c679-31262d80f4cd"
      },
      "outputs": [
        {
          "name": "stderr",
          "output_type": "stream",
          "text": [
            "WARNING:absl:You are saving your model as an HDF5 file via `model.save()` or `keras.saving.save_model(model)`. This file format is considered legacy. We recommend using instead the native Keras format, e.g. `model.save('my_model.keras')` or `keras.saving.save_model(model, 'my_model.keras')`. \n"
          ]
        }
      ],
      "source": [
        "model.save('improved_emnist_model.h5')  # HDF5 format\n",
        "#model.save('improved_emnist_model')"
      ]
    },
    {
      "cell_type": "code",
      "execution_count": 46,
      "metadata": {
        "colab": {
          "base_uri": "https://localhost:8080/"
        },
        "id": "Ffzhwrbh9bf3",
        "outputId": "e2e8825e-8c57-441d-f013-63154e849c6a"
      },
      "outputs": [
        {
          "name": "stdout",
          "output_type": "stream",
          "text": [
            "Model training and evaluation complete!\n"
          ]
        }
      ],
      "source": [
        "def predict_character(image_array, model):\n",
        "    \"\"\"\n",
        "    Perform prediction on a single character image\n",
        "\n",
        "    Args:\n",
        "        image_array: Numpy array of shape (28, 28) or (28, 28, 1)\n",
        "        model: Loaded Keras model\n",
        "\n",
        "    Returns:\n",
        "        Predicted class and confidence\n",
        "    \"\"\"\n",
        "    # Ensure correct shape (28, 28, 1)\n",
        "    if len(image_array.shape) == 2:\n",
        "        image_array = image_array.reshape(1, 28, 28, 1)\n",
        "    elif len(image_array.shape) == 3 and image_array.shape[0] == 1:\n",
        "        image_array = image_array.reshape(1, 28, 28, 1)\n",
        "\n",
        "    # Normalize\n",
        "    image_array = image_array.astype('float32') / 255.0\n",
        "\n",
        "    # Predict\n",
        "    predictions = model.predict(image_array)\n",
        "    predicted_class = np.argmax(predictions, axis=1)[0]\n",
        "    confidence = np.max(predictions)\n",
        "\n",
        "    return predicted_class, confidence\n",
        "\n",
        "print(\"Model training and evaluation complete!\")"
      ]
    },
    {
      "cell_type": "code",
      "execution_count": 48,
      "metadata": {
        "colab": {
          "base_uri": "https://localhost:8080/",
          "height": 1000
        },
        "id": "MRsBO9pJ-Nel",
        "outputId": "cc9a3bd3-6afe-4e39-9d34-76fc2027089b"
      },
      "outputs": [
        {
          "name": "stderr",
          "output_type": "stream",
          "text": [
            "WARNING:absl:Compiled the loaded model, but the compiled metrics have yet to be built. `model.compile_metrics` will be empty until you train or evaluate the model.\n"
          ]
        },
        {
          "name": "stdout",
          "output_type": "stream",
          "text": [
            "Testing on random samples from the EMNIST test dataset...\n"
          ]
        },
        {
          "data": {
            "image/png": "[encoded data removed]",
            "text/plain": [
              "<Figure size 600x600 with 1 Axes>"
            ]
          },
          "metadata": {},
          "output_type": "display_data"
        },
        {
          "name": "stdout",
          "output_type": "stream",
          "text": [
            "Sample 42912:\n",
            "  Actual: t\n",
            "  Predicted: i\n",
            "  Confidence: 49.64%\n",
            "------------------------------\n"
          ]
        },
        {
          "data": {
            "image/png": "[encoded data removed]",
            "text/plain": [
              "<Figure size 600x600 with 1 Axes>"
            ]
          },
          "metadata": {},
          "output_type": "display_data"
        },
        {
          "name": "stdout",
          "output_type": "stream",
          "text": [
            "Sample 25417:\n",
            "  Actual: U\n",
            "  Predicted: i\n",
            "  Confidence: 50.00%\n",
            "------------------------------\n"
          ]
        },
        {
          "data": {
            "image/png": "[encoded data removed]",
            "text/plain": [
              "<Figure size 600x600 with 1 Axes>"
            ]
          },
          "metadata": {},
          "output_type": "display_data"
        },
        {
          "name": "stdout",
          "output_type": "stream",
          "text": [
            "Sample 74346:\n",
            "  Actual: 0\n",
            "  Predicted: i\n",
            "  Confidence: 49.99%\n",
            "------------------------------\n"
          ]
        },
        {
          "data": {
            "image/png": "[encoded data removed]",
            "text/plain": [
              "<Figure size 600x600 with 1 Axes>"
            ]
          },
          "metadata": {},
          "output_type": "display_data"
        },
        {
          "name": "stdout",
          "output_type": "stream",
          "text": [
            "Sample 20933:\n",
            "  Actual: d\n",
            "  Predicted: i\n",
            "  Confidence: 49.75%\n",
            "------------------------------\n",
            "To test your model on your own images, run the custom_image_test.py script.\n"
          ]
        }
      ],
      "source": [
        "import numpy as np\n",
        "import matplotlib.pyplot as plt\n",
        "from tensorflow import keras\n",
        "import random\n",
        "from torchvision import datasets, transforms\n",
        "import torch\n",
        "\n",
        "# Load the saved model\n",
        "model_path = 'improved_emnist_model.h5'  # or 'best_emnist_model.h5'\n",
        "model = keras.models.load_model(model_path)\n",
        "\n",
        "# Class mapping for EMNIST byclass (maps class indices to actual characters)\n",
        "def get_class_mapping():\n",
        "    # EMNIST 'byclass' mapping according to the dataset documentation\n",
        "    # 0-9: Digits\n",
        "    # 10-35: Uppercase letters\n",
        "    # 36-61: Lowercase letters\n",
        "    mapping = {}\n",
        "\n",
        "    # Digits (0-9)\n",
        "    for i in range(10):\n",
        "        mapping[i] = str(i)\n",
        "\n",
        "    # Uppercase letters (A-Z)\n",
        "    for i in range(26):\n",
        "        mapping[i + 10] = chr(65 + i)  # ASCII: A=65, B=66, etc.\n",
        "\n",
        "    # Lowercase letters (a-z)\n",
        "    for i in range(26):\n",
        "        mapping[i + 36] = chr(97 + i)  # ASCII: a=97, b=98, etc.\n",
        "\n",
        "    return mapping\n",
        "\n",
        "# Function to preprocess a numpy array\n",
        "def preprocess_array(img_array):\n",
        "    \"\"\"\n",
        "    Preprocess a numpy array to be compatible with the EMNIST model\n",
        "    \"\"\"\n",
        "    # Normalize to [0, 1]\n",
        "    img_array = img_array.astype('float32') / 255.0\n",
        "\n",
        "    # Reshape to expected format (1, 28, 28, 1)\n",
        "    img_array = img_array.reshape(1, 28, 28, 1)\n",
        "\n",
        "    return img_array\n",
        "\n",
        "# Function to make a prediction\n",
        "def predict_character(image_array, model, class_mapping=None):\n",
        "    \"\"\"\n",
        "    Predict the character from an image array\n",
        "\n",
        "    Args:\n",
        "        image_array: Numpy array of the image\n",
        "        model: The loaded Keras model\n",
        "        class_mapping: Dictionary mapping class indices to characters\n",
        "\n",
        "    Returns:\n",
        "        Predicted character, class index, and confidence\n",
        "    \"\"\"\n",
        "    # Preprocess the image\n",
        "    processed_image = preprocess_array(image_array)\n",
        "\n",
        "    # Make prediction\n",
        "    predictions = model.predict(processed_image, verbose=0)\n",
        "    predicted_class = np.argmax(predictions[0])\n",
        "    confidence = np.max(predictions[0]) * 100  # Convert to percentage\n",
        "\n",
        "    # Get character from class mapping if provided\n",
        "    if class_mapping is not None:\n",
        "        predicted_char = class_mapping.get(predicted_class, f\"Unknown ({predicted_class})\")\n",
        "    else:\n",
        "        predicted_char = str(predicted_class)\n",
        "\n",
        "    return predicted_char, predicted_class, confidence\n",
        "\n",
        "# Function to visualize the prediction\n",
        "def visualize_prediction(image_array, predicted_char, confidence, original_class=None):\n",
        "    \"\"\"\n",
        "    Visualize the image and prediction\n",
        "    \"\"\"\n",
        "    # Create the plot\n",
        "    plt.figure(figsize=(6, 6))\n",
        "    plt.imshow(image_array, cmap='gray')\n",
        "\n",
        "    title = f\"Predicted: {predicted_char}, Confidence: {confidence:.2f}%\"\n",
        "    if original_class is not None:\n",
        "        title = f\"Actual: {original_class}, \" + title\n",
        "\n",
        "    plt.title(title)\n",
        "    plt.axis('off')\n",
        "    plt.tight_layout()\n",
        "    plt.show()\n",
        "\n",
        "# Test on random samples from the test dataset\n",
        "def test_on_random_samples(num_samples=5):\n",
        "    \"\"\"\n",
        "    Test the model on random samples from the EMNIST test dataset\n",
        "    \"\"\"\n",
        "    print(\"Testing on random samples from the EMNIST test dataset...\")\n",
        "\n",
        "    # Load EMNIST test dataset\n",
        "    transform = transforms.Compose([transforms.ToTensor()])\n",
        "    test_dataset = datasets.EMNIST(root='./data', split='byclass', train=False, download=True, transform=transform)\n",
        "\n",
        "    # Get class mapping\n",
        "    class_mapping = get_class_mapping()\n",
        "\n",
        "    # Select random samples\n",
        "    sample_indices = random.sample(range(len(test_dataset)), num_samples)\n",
        "\n",
        "    for idx in sample_indices:\n",
        "        # Get image and label\n",
        "        image, label = test_dataset[idx]\n",
        "        image_np = image.numpy().reshape(28, 28)\n",
        "\n",
        "        # Handle label - convert tensor to int if needed\n",
        "        if isinstance(label, torch.Tensor):\n",
        "            label_value = label.item()\n",
        "        else:\n",
        "            label_value = label\n",
        "\n",
        "        # Predict\n",
        "        pred_char, pred_class, confidence = predict_character(image_np, model, class_mapping)\n",
        "\n",
        "        # Visualize\n",
        "        visualize_prediction(image_np, pred_char, confidence, class_mapping.get(label_value))\n",
        "\n",
        "        print(f\"Sample {idx}:\")\n",
        "        print(f\"  Actual: {class_mapping.get(label_value)}\")\n",
        "        print(f\"  Predicted: {pred_char}\")\n",
        "        print(f\"  Confidence: {confidence:.2f}%\")\n",
        "        print(\"-\" * 30)\n",
        "\n",
        "# Main execution\n",
        "if __name__ == \"__main__\":\n",
        "    # Test on random samples from the test dataset\n",
        "    test_on_random_samples(4)\n",
        "\n",
        "    print(\"To test your model on your own images, run the custom_image_test.py script.\")"
      ]
    },
    {
      "cell_type": "code",
      "execution_count": 38,
      "metadata": {
        "colab": {
          "base_uri": "https://localhost:8080/",
          "height": 772
        },
        "id": "IYXA83Nb-OYp",
        "outputId": "b8ec2d70-ff55-4f58-c8d5-0ec9232ae54d"
      },
      "outputs": [
        {
          "name": "stderr",
          "output_type": "stream",
          "text": [
            "WARNING:absl:Compiled the loaded model, but the compiled metrics have yet to be built. `model.compile_metrics` will be empty until you train or evaluate the model.\n"
          ]
        },
        {
          "name": "stdout",
          "output_type": "stream",
          "text": [
            "EMNIST Character Recognition - Colab Test\n",
            "--------------------------------------------------\n",
            "1. Upload and test an image\n",
            "2. Capture image from webcam (if available)\n",
            "Please upload an image...\n"
          ]
        },
        {
          "data": {
            "text/html": [
              "\n",
              "     <input type=\"file\" id=\"files-a66bf281-7a02-49a1-9e1e-d32e3cc8b7b9\" name=\"files[]\" multiple disabled\n",
              "        style=\"border:none\" />\n",
              "     <output id=\"result-a66bf281-7a02-49a1-9e1e-d32e3cc8b7b9\">\n",
              "      Upload widget is only available when the cell has been executed in the\n",
              "      current browser session. Please rerun this cell to enable.\n",
              "      </output>\n",
              "      <script>// Copyright 2017 Google LLC\n",
              "//\n",
              "// Licensed under the Apache License, Version 2.0 (the \"License\");\n",
              "// you may not use this file except in compliance with the License.\n",
              "// You may obtain a copy of the License at\n",
              "//\n",
              "//      http://www.apache.org/licenses/LICENSE-2.0\n",
              "//\n",
              "// Unless required by applicable law or agreed to in writing, software\n",
              "// distributed under the License is distributed on an \"AS IS\" BASIS,\n",
              "// WITHOUT WARRANTIES OR CONDITIONS OF ANY KIND, either express or implied.\n",
              "// See the License for the specific language governing permissions and\n",
              "// limitations under the License.\n",
              "\n",
              "/**\n",
              " * @fileoverview Helpers for google.colab Python module.\n",
              " */\n",
              "(function(scope) {\n",
              "function span(text, styleAttributes = {}) {\n",
              "  const element = document.createElement('span');\n",
              "  element.textContent = text;\n",
              "  for (const key of Object.keys(styleAttributes)) {\n",
              "    element.style[key] = styleAttributes[key];\n",
              "  }\n",
              "  return element;\n",
              "}\n",
              "\n",
              "// Max number of bytes which will be uploaded at a time.\n",
              "const MAX_PAYLOAD_SIZE = 100 * 1024;\n",
              "\n",
              "function _uploadFiles(inputId, outputId) {\n",
              "  const steps = uploadFilesStep(inputId, outputId);\n",
              "  const outputElement = document.getElementById(outputId);\n",
              "  // Cache steps on the outputElement to make it available for the next call\n",
              "  // to uploadFilesContinue from Python.\n",
              "  outputElement.steps = steps;\n",
              "\n",
              "  return _uploadFilesContinue(outputId);\n",
              "}\n",
              "\n",
              "// This is roughly an async generator (not supported in the browser yet),\n",
              "// where there are multiple asynchronous steps and the Python side is going\n",
              "// to poll for completion of each step.\n",
              "// This uses a Promise to block the python side on completion of each step,\n",
              "// then passes the result of the previous step as the input to the next step.\n",
              "function _uploadFilesContinue(outputId) {\n",
              "  const outputElement = document.getElementById(outputId);\n",
              "  const steps = outputElement.steps;\n",
              "\n",
              "  const next = steps.next(outputElement.lastPromiseValue);\n",
              "  return Promise.resolve(next.value.promise).then((value) => {\n",
              "    // Cache the last promise value to make it available to the next\n",
              "    // step of the generator.\n",
              "    outputElement.lastPromiseValue = value;\n",
              "    return next.value.response;\n",
              "  });\n",
              "}\n",
              "\n",
              "/**\n",
              " * Generator function which is called between each async step of the upload\n",
              " * process.\n",
              " * @param {string} inputId Element ID of the input file picker element.\n",
              " * @param {string} outputId Element ID of the output display.\n",
              " * @return {!Iterable<!Object>} Iterable of next steps.\n",
              " */\n",
              "function* uploadFilesStep(inputId, outputId) {\n",
              "  const inputElement = document.getElementById(inputId);\n",
              "  inputElement.disabled = false;\n",
              "\n",
              "  const outputElement = document.getElementById(outputId);\n",
              "  outputElement.innerHTML = '';\n",
              "\n",
              "  const pickedPromise = new Promise((resolve) => {\n",
              "    inputElement.addEventListener('change', (e) => {\n",
              "      resolve(e.target.files);\n",
              "    });\n",
              "  });\n",
              "\n",
              "  const cancel = document.createElement('button');\n",
              "  inputElement.parentElement.appendChild(cancel);\n",
              "  cancel.textContent = 'Cancel upload';\n",
              "  const cancelPromise = new Promise((resolve) => {\n",
              "    cancel.onclick = () => {\n",
              "      resolve(null);\n",
              "    };\n",
              "  });\n",
              "\n",
              "  // Wait for the user to pick the files.\n",
              "  const files = yield {\n",
              "    promise: Promise.race([pickedPromise, cancelPromise]),\n",
              "    response: {\n",
              "      action: 'starting',\n",
              "    }\n",
              "  };\n",
              "\n",
              "  cancel.remove();\n",
              "\n",
              "  // Disable the input element since further picks are not allowed.\n",
              "  inputElement.disabled = true;\n",
              "\n",
              "  if (!files) {\n",
              "    return {\n",
              "      response: {\n",
              "        action: 'complete',\n",
              "      }\n",
              "    };\n",
              "  }\n",
              "\n",
              "  for (const file of files) {\n",
              "    const li = document.createElement('li');\n",
              "    li.append(span(file.name, {fontWeight: 'bold'}));\n",
              "    li.append(span(\n",
              "        `(${file.type || 'n/a'}) - ${file.size} bytes, ` +\n",
              "        `last modified: ${\n",
              "            file.lastModifiedDate ? file.lastModifiedDate.toLocaleDateString() :\n",
              "                                    'n/a'} - `));\n",
              "    const percent = span('0% done');\n",
              "    li.appendChild(percent);\n",
              "\n",
              "    outputElement.appendChild(li);\n",
              "\n",
              "    const fileDataPromise = new Promise((resolve) => {\n",
              "      const reader = new FileReader();\n",
              "      reader.onload = (e) => {\n",
              "        resolve(e.target.result);\n",
              "      };\n",
              "      reader.readAsArrayBuffer(file);\n",
              "    });\n",
              "    // Wait for the data to be ready.\n",
              "    let fileData = yield {\n",
              "      promise: fileDataPromise,\n",
              "      response: {\n",
              "        action: 'continue',\n",
              "      }\n",
              "    };\n",
              "\n",
              "    // Use a chunked sending to avoid message size limits. See b/62115660.\n",
              "    let position = 0;\n",
              "    do {\n",
              "      const length = Math.min(fileData.byteLength - position, MAX_PAYLOAD_SIZE);\n",
              "      const chunk = new Uint8Array(fileData, position, length);\n",
              "      position += length;\n",
              "\n",
              "      const base64 = btoa(String.fromCharCode.apply(null, chunk));\n",
              "      yield {\n",
              "        response: {\n",
              "          action: 'append',\n",
              "          file: file.name,\n",
              "          data: base64,\n",
              "        },\n",
              "      };\n",
              "\n",
              "      let percentDone = fileData.byteLength === 0 ?\n",
              "          100 :\n",
              "          Math.round((position / fileData.byteLength) * 100);\n",
              "      percent.textContent = `${percentDone}% done`;\n",
              "\n",
              "    } while (position < fileData.byteLength);\n",
              "  }\n",
              "\n",
              "  // All done.\n",
              "  yield {\n",
              "    response: {\n",
              "      action: 'complete',\n",
              "    }\n",
              "  };\n",
              "}\n",
              "\n",
              "scope.google = scope.google || {};\n",
              "scope.google.colab = scope.google.colab || {};\n",
              "scope.google.colab._files = {\n",
              "  _uploadFiles,\n",
              "  _uploadFilesContinue,\n",
              "};\n",
              "})(self);\n",
              "</script> "
            ],
            "text/plain": [
              "<IPython.core.display.HTML object>"
            ]
          },
          "metadata": {},
          "output_type": "display_data"
        },
        {
          "name": "stdout",
          "output_type": "stream",
          "text": [
            "Saving images (1).png to images (1) (1).png\n",
            "Testing image: images (1) (1).png\n"
          ]
        },
        {
          "data": {
            "image/png": "[encoded data removed]",
            "text/plain": [
              "<Figure size 1000x500 with 2 Axes>"
            ]
          },
          "metadata": {},
          "output_type": "display_data"
        },
        {
          "name": "stdout",
          "output_type": "stream",
          "text": [
            "Predicted: B\n",
            "Confidence: 51.44%\n",
            "------------------------------\n"
          ]
        }
      ],
      "source": [
        "import numpy as np\n",
        "import matplotlib.pyplot as plt\n",
        "from tensorflow import keras\n",
        "from PIL import Image\n",
        "import cv2\n",
        "from google.colab import files\n",
        "import os\n",
        "\n",
        "# Load the saved model\n",
        "# Make sure to upload your model to Colab first\n",
        "model_path = 'improved_emnist_model.h5'  # or 'best_emnist_model.h5'\n",
        "model = keras.models.load_model(model_path)\n",
        "\n",
        "# Class mapping for EMNIST byclass (maps class indices to actual characters)\n",
        "def get_class_mapping():\n",
        "    # EMNIST 'byclass' mapping according to the dataset documentation\n",
        "    # 0-9: Digits\n",
        "    # 10-35: Uppercase letters\n",
        "    # 36-61: Lowercase letters\n",
        "    mapping = {}\n",
        "\n",
        "    # Digits (0-9)\n",
        "    for i in range(10):\n",
        "        mapping[i] = str(i)\n",
        "\n",
        "    # Uppercase letters (A-Z)\n",
        "    for i in range(26):\n",
        "        mapping[i + 10] = chr(65 + i)  # ASCII: A=65, B=66, etc.\n",
        "\n",
        "    # Lowercase letters (a-z)\n",
        "    for i in range(26):\n",
        "        mapping[i + 36] = chr(97 + i)  # ASCII: a=97, b=98, etc.\n",
        "\n",
        "    return mapping\n",
        "\n",
        "# Function to preprocess an image file\n",
        "def preprocess_image(img):\n",
        "    \"\"\"\n",
        "    Preprocess image to be compatible with the EMNIST model\n",
        "    \"\"\"\n",
        "    # Convert to grayscale if needed\n",
        "    if len(img.shape) == 3 and img.shape[2] == 3:\n",
        "        img = cv2.cvtColor(img, cv2.COLOR_RGB2GRAY)\n",
        "\n",
        "    # Resize to 28x28\n",
        "    img = cv2.resize(img, (28, 28))\n",
        "\n",
        "    # Convert to numpy array if not already\n",
        "    img_array = np.array(img)\n",
        "\n",
        "    # Invert if needed (EMNIST expects white digit on black background)\n",
        "    # Check if the image is already inverted by comparing average pixel value\n",
        "    if np.mean(img_array) > 127:\n",
        "        img_array = 255 - img_array  # Invert\n",
        "\n",
        "    # Normalize to [0, 1]\n",
        "    img_array = img_array.astype('float32') / 255.0\n",
        "\n",
        "    # Reshape to expected format (1, 28, 28, 1)\n",
        "    img_array = img_array.reshape(1, 28, 28, 1)\n",
        "\n",
        "    return img_array, img\n",
        "\n",
        "# Function to make a prediction\n",
        "def predict_character(img, model):\n",
        "    \"\"\"\n",
        "    Predict the character from an image\n",
        "\n",
        "    Args:\n",
        "        img: Image array\n",
        "        model: The loaded Keras model\n",
        "\n",
        "    Returns:\n",
        "        Predicted character, class index, confidence, and processed image\n",
        "    \"\"\"\n",
        "    # Get class mapping\n",
        "    class_mapping = get_class_mapping()\n",
        "\n",
        "    # Preprocess the image\n",
        "    processed_image, original_img = preprocess_image(img)\n",
        "\n",
        "    # Make prediction\n",
        "    predictions = model.predict(processed_image, verbose=0)\n",
        "    predicted_class = np.argmax(predictions[0])\n",
        "    confidence = np.max(predictions[0]) * 100  # Convert to percentage\n",
        "\n",
        "    # Get character from class mapping\n",
        "    predicted_char = class_mapping.get(predicted_class, f\"Unknown ({predicted_class})\")\n",
        "\n",
        "    return predicted_char, predicted_class, confidence, processed_image[0,:,:,0]\n",
        "\n",
        "# Function to upload and test an image\n",
        "def upload_and_test_image():\n",
        "    \"\"\"\n",
        "    Upload an image through Colab and test the model on it\n",
        "    \"\"\"\n",
        "    print(\"Please upload an image...\")\n",
        "    uploaded = files.upload()\n",
        "\n",
        "    for filename in uploaded.keys():\n",
        "        # Read the image\n",
        "        img = cv2.imread(filename)\n",
        "        if img is None:\n",
        "            print(f\"Error: Could not read image {filename}\")\n",
        "            continue\n",
        "\n",
        "        # Convert BGR to RGB (cv2 reads as BGR)\n",
        "        img = cv2.cvtColor(img, cv2.COLOR_BGR2RGB)\n",
        "\n",
        "        print(f\"Testing image: {filename}\")\n",
        "\n",
        "        # Predict\n",
        "        pred_char, pred_class, confidence, processed_img = predict_character(img, model)\n",
        "\n",
        "        # Display the original and processed image\n",
        "        plt.figure(figsize=(10, 5))\n",
        "\n",
        "        # Original image\n",
        "        plt.subplot(1, 2, 1)\n",
        "        plt.imshow(img)\n",
        "        plt.title(\"Original Image\")\n",
        "        plt.axis('off')\n",
        "\n",
        "        # Processed and predicted\n",
        "        plt.subplot(1, 2, 2)\n",
        "        plt.imshow(processed_img, cmap='gray')\n",
        "        plt.title(f\"Processed & Predicted: {pred_char}\\nConfidence: {confidence:.2f}%\")\n",
        "        plt.axis('off')\n",
        "\n",
        "        plt.tight_layout()\n",
        "        plt.show()\n",
        "\n",
        "        print(f\"Predicted: {pred_char}\")\n",
        "        print(f\"Confidence: {confidence:.2f}%\")\n",
        "        print(\"-\" * 30)\n",
        "\n",
        "# Function to take a photo using the webcam (if available in Colab)\n",
        "def webcam_capture_and_test():\n",
        "    \"\"\"\n",
        "    Capture an image from webcam and test the model on it\n",
        "    \"\"\"\n",
        "    from IPython.display import display, Javascript\n",
        "    from google.colab.output import eval_js\n",
        "    from base64 import b64decode\n",
        "\n",
        "    def take_photo(filename='photo.jpg', quality=0.8):\n",
        "        js = Javascript('''\n",
        "            async function takePhoto(quality) {\n",
        "                const div = document.createElement('div');\n",
        "                const capture = document.createElement('button');\n",
        "                capture.textContent = 'Capture';\n",
        "                div.appendChild(capture);\n",
        "\n",
        "                const video = document.createElement('video');\n",
        "                video.style.display = 'block';\n",
        "                const stream = await navigator.mediaDevices.getUserMedia({video: true});\n",
        "                document.body.appendChild(div);\n",
        "                div.appendChild(video);\n",
        "                video.srcObject = stream;\n",
        "                await video.play();\n",
        "\n",
        "                // Resize the output to fit the video element.\n",
        "                google.colab.output.setIframeHeight(document.documentElement.scrollHeight, true);\n",
        "\n",
        "                // Wait for Capture to be clicked.\n",
        "                await new Promise((resolve) => {\n",
        "                    capture.onclick = resolve;\n",
        "                });\n",
        "\n",
        "                const canvas = document.createElement('canvas');\n",
        "                canvas.width = video.videoWidth;\n",
        "                canvas.height = video.videoHeight;\n",
        "                canvas.getContext('2d').drawImage(video, 0, 0);\n",
        "                stream.getVideoTracks()[0].stop();\n",
        "                div.remove();\n",
        "                return canvas.toDataURL('image/jpeg', quality);\n",
        "            }\n",
        "            ''')\n",
        "        display(js)\n",
        "        data = eval_js('takePhoto({})'.format(quality))\n",
        "        binary = b64decode(data.split(',')[1])\n",
        "        with open(filename, 'wb') as f:\n",
        "            f.write(binary)\n",
        "        return filename\n",
        "\n",
        "    # Take photo using webcam\n",
        "    try:\n",
        "        filename = take_photo('captured_image.jpg')\n",
        "        print(f'Saved to {filename}')\n",
        "\n",
        "        # Read the captured image\n",
        "        img = cv2.imread(filename)\n",
        "        if img is None:\n",
        "            print(f\"Error: Could not read captured image\")\n",
        "            return\n",
        "\n",
        "        # Convert BGR to RGB (cv2 reads as BGR)\n",
        "        img = cv2.cvtColor(img, cv2.COLOR_BGR2RGB)\n",
        "\n",
        "        # Predict\n",
        "        pred_char, pred_class, confidence, processed_img = predict_character(img, model)\n",
        "\n",
        "        # Display the original and processed image\n",
        "        plt.figure(figsize=(10, 5))\n",
        "\n",
        "        # Original image\n",
        "        plt.subplot(1, 2, 1)\n",
        "        plt.imshow(img)\n",
        "        plt.title(\"Captured Image\")\n",
        "        plt.axis('off')\n",
        "\n",
        "        # Processed and predicted\n",
        "        plt.subplot(1, 2, 2)\n",
        "        plt.imshow(processed_img, cmap='gray')\n",
        "        plt.title(f\"Processed & Predicted: {pred_char}\\nConfidence: {confidence:.2f}%\")\n",
        "        plt.axis('off')\n",
        "\n",
        "        plt.tight_layout()\n",
        "        plt.show()\n",
        "\n",
        "        print(f\"Predicted: {pred_char}\")\n",
        "        print(f\"Confidence: {confidence:.2f}%\")\n",
        "\n",
        "    except Exception as e:\n",
        "        print(f\"Error capturing image: {str(e)}\")\n",
        "        print(\"Webcam capture may not be supported in your Colab environment.\")\n",
        "        print(\"Try using the upload option instead.\")\n",
        "\n",
        "# Main execution - Colab friendly menu\n",
        "print(\"EMNIST Character Recognition - Colab Test\")\n",
        "print(\"-\" * 50)\n",
        "print(\"1. Upload and test an image\")\n",
        "print(\"2. Capture image from webcam (if available)\")\n",
        "\n",
        "try:\n",
        "    # Use Colab's input instead of regular input\n",
        "    from google.colab import output\n",
        "    mode = output.eval_js('prompt(\"Select mode (1 or 2):\")')\n",
        "\n",
        "    if mode == \"1\":\n",
        "        upload_and_test_image()\n",
        "    elif mode == \"2\":\n",
        "        webcam_capture_and_test()\n",
        "    else:\n",
        "        print(\"Invalid selection. Please run the cell again and select 1 or 2.\")\n",
        "except:\n",
        "    # Fallback to regular input if not in Colab\n",
        "    mode = input(\"Select mode (1 or 2): \")\n",
        "\n",
        "    if mode == \"1\":\n",
        "        upload_and_test_image()\n",
        "    elif mode == \"2\":\n",
        "        print(\"Webcam capture is only available in Colab environment.\")\n",
        "    else:\n",
        "        print(\"Invalid selection. Please run the cell again and select 1 or 2.\")"
      ]
    },
    {
      "cell_type": "code",
      "execution_count": null,
      "metadata": {
        "id": "V00m-vdrEps8"
      },
      "outputs": [],
      "source": []
    }
  ],
  "metadata": {
    "accelerator": "GPU",
    "colab": {
      "gpuType": "T4",
      "provenance": []
    },
    "kernelspec": {
      "display_name": "Python 3",
      "name": "python3"
    },
    "language_info": {
      "codemirror_mode": {
        "name": "ipython",
        "version": 3
      },
      "file_extension": ".py",
      "mimetype": "text/x-python",
      "name": "python",
      "nbconvert_exporter": "python",
      "pygments_lexer": "ipython3",
      "version": "3.11.9"
    }
  },
  "nbformat": 4,
  "nbformat_minor": 0
}
