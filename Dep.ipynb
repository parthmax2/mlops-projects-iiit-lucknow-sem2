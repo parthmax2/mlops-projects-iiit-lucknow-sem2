{
  "nbformat": 4,
  "nbformat_minor": 0,
  "metadata": {
    "colab": {
      "provenance": []
    },
    "kernelspec": {
      "name": "python3",
      "display_name": "Python 3"
    },
    "language_info": {
      "name": "python"
    }
  },
  "cells": [
    {
      "cell_type": "code",
      "source": [
        "from google.colab import drive\n",
        "drive.mount('/content/drive')"
      ],
      "metadata": {
        "colab": {
          "base_uri": "https://localhost:8080/"
        },
        "id": "aZpV0sYOaqZW",
        "outputId": "963bfbbe-399c-47f9-b598-15180b4c33f9"
      },
      "execution_count": null,
      "outputs": [
        {
          "output_type": "stream",
          "name": "stdout",
          "text": [
            "Mounted at /content/drive\n"
          ]
        }
      ]
    },
    {
      "cell_type": "code",
      "source": [
        "!kill -9 $(lsof -t -i:8501)"
      ],
      "metadata": {
        "colab": {
          "base_uri": "https://localhost:8080/"
        },
        "id": "x-dxrdlMzdzK",
        "outputId": "381da276-bfb8-49b3-9723-557341666649"
      },
      "execution_count": null,
      "outputs": [
        {
          "output_type": "stream",
          "name": "stdout",
          "text": [
            "kill: usage: kill [-s sigspec | -n signum | -sigspec] pid | jobspec ... or kill -l [sigspec]\n"
          ]
        }
      ]
    },
    {
      "cell_type": "code",
      "execution_count": null,
      "metadata": {
        "colab": {
          "base_uri": "https://localhost:8080/"
        },
        "id": "4eE1_oKXWYp8",
        "outputId": "262f12ce-4fb4-47cf-f00f-c60af59d599d"
      },
      "outputs": [
        {
          "output_type": "stream",
          "name": "stdout",
          "text": [
            "\u001b[2K     \u001b[90m━━━━━━━━━━━━━━━━━━━━━━━━━━━━━━━━━━━━━━━━\u001b[0m \u001b[32m44.3/44.3 kB\u001b[0m \u001b[31m1.9 MB/s\u001b[0m eta \u001b[36m0:00:00\u001b[0m\n",
            "\u001b[2K   \u001b[90m━━━━━━━━━━━━━━━━━━━━━━━━━━━━━━━━━━━━━━━━\u001b[0m \u001b[32m9.9/9.9 MB\u001b[0m \u001b[31m63.1 MB/s\u001b[0m eta \u001b[36m0:00:00\u001b[0m\n",
            "\u001b[2K   \u001b[90m━━━━━━━━━━━━━━━━━━━━━━━━━━━━━━━━━━━━━━━━\u001b[0m \u001b[32m6.9/6.9 MB\u001b[0m \u001b[31m96.8 MB/s\u001b[0m eta \u001b[36m0:00:00\u001b[0m\n",
            "\u001b[2K   \u001b[90m━━━━━━━━━━━━━━━━━━━━━━━━━━━━━━━━━━━━━━━━\u001b[0m \u001b[32m79.1/79.1 kB\u001b[0m \u001b[31m5.0 MB/s\u001b[0m eta \u001b[36m0:00:00\u001b[0m\n",
            "\u001b[?25h"
          ]
        }
      ],
      "source": [
        "!pip install streamlit pyngrok --quiet"
      ]
    },
    {
      "cell_type": "code",
      "source": [
        "%%writefile app.py\n",
        "import streamlit as st\n",
        "import numpy as np\n",
        "import tensorflow as tf\n",
        "from PIL import Image\n",
        "import cv2\n",
        "import os\n",
        "\n",
        "# Load model\n",
        "@st.cache_resource\n",
        "def load_model():\n",
        "    model_path = \"/content/drive/MyDrive/Alzheimer_CNN_Final.keras\"  # Update if needed\n",
        "    model = tf.keras.models.load_model(model_path)\n",
        "    return model\n",
        "\n",
        "model = load_model()\n",
        "\n",
        "# Class labels\n",
        "class_names = ['MildDemented', 'ModerateDemented', 'NonDemented', 'VeryMildDemented']\n",
        "\n",
        "st.title(\"🧠 Alzheimer's Detection from MRI\")\n",
        "st.write(\"Upload an MRI image to predict dementia stage.\")\n",
        "\n",
        "uploaded_file = st.file_uploader(\"Choose an MRI image...\", type=[\"jpg\", \"jpeg\", \"png\"])\n",
        "\n",
        "def predict_image(img):\n",
        "    img = img.convert(\"RGB\").resize((224, 224))\n",
        "    img_array = tf.keras.utils.img_to_array(img) / 255.0\n",
        "    img_tensor = tf.expand_dims(img_array, axis=0)\n",
        "    prediction = model.predict(img_tensor)[0]\n",
        "    pred_class = class_names[np.argmax(prediction)]\n",
        "    confidence = 100 * np.max(prediction)\n",
        "    return pred_class, confidence\n",
        "\n",
        "if uploaded_file is not None:\n",
        "    image = Image.open(uploaded_file)\n",
        "    st.image(image, caption=\"Uploaded MRI\",use_container_width=True)\n",
        "    st.write(\"Processing...\")\n",
        "\n",
        "    label, conf = predict_image(image)\n",
        "    st.success(f\"🧠 Predicted: **{label}** with **{conf:.2f}%** confidence\")"
      ],
      "metadata": {
        "colab": {
          "base_uri": "https://localhost:8080/"
        },
        "id": "LhVqzR0ZW9A7",
        "outputId": "5b9b22f8-d549-4b88-b933-44411d23836d"
      },
      "execution_count": null,
      "outputs": [
        {
          "output_type": "stream",
          "name": "stdout",
          "text": [
            "Writing app.py\n"
          ]
        }
      ]
    },
    {
      "cell_type": "code",
      "source": [
        "!ngrok config add-authtoken 2wYJQrlK6SAcYTyPVwRALDp2bxe_25oG119qadB3iy9xmKjME"
      ],
      "metadata": {
        "colab": {
          "base_uri": "https://localhost:8080/"
        },
        "id": "m0Ffkx8NYnBV",
        "outputId": "663c01c6-3230-4818-dfbc-6f673081d131"
      },
      "execution_count": null,
      "outputs": [
        {
          "output_type": "stream",
          "name": "stdout",
          "text": [
            "Authtoken saved to configuration file: /root/.config/ngrok/ngrok.yml\n"
          ]
        }
      ]
    },
    {
      "cell_type": "code",
      "source": [
        "!streamlit run app.py &"
      ],
      "metadata": {
        "colab": {
          "base_uri": "https://localhost:8080/"
        },
        "id": "9tdKsV88zmfl",
        "outputId": "aebbd8e8-ea56-452f-f3d5-bd80c7532269"
      },
      "execution_count": null,
      "outputs": [
        {
          "output_type": "stream",
          "name": "stdout",
          "text": [
            "\n",
            "Collecting usage statistics. To deactivate, set browser.gatherUsageStats to false.\n",
            "\u001b[0m\n",
            "\u001b[0m\n",
            "\u001b[34m\u001b[1m  You can now view your Streamlit app in your browser.\u001b[0m\n",
            "\u001b[0m\n",
            "\u001b[34m  Local URL: \u001b[0m\u001b[1mhttp://localhost:8501\u001b[0m\n",
            "\u001b[34m  Network URL: \u001b[0m\u001b[1mhttp://172.28.0.12:8501\u001b[0m\n",
            "\u001b[34m  External URL: \u001b[0m\u001b[1mhttp://104.199.162.187:8501\u001b[0m\n",
            "\u001b[0m\n",
            "\u001b[34m  Stopping...\u001b[0m\n"
          ]
        }
      ]
    },
    {
      "cell_type": "code",
      "source": [
        "from pyngrok import ngrok\n",
        "\n",
        "# Get a list of active tunnels\n",
        "tunnels = ngrok.get_tunnels()\n",
        "\n",
        "# Iterate through the tunnels and disconnect them using the tunnel's public_url\n",
        "for tunnel in tunnels:\n",
        "    print(f\"Disconnecting tunnel: {tunnel.public_url}\")\n",
        "    try:\n",
        "        ngrok.disconnect(tunnel.public_url)\n",
        "    except pyngrok.exceptions.PyngrokNgrokHTTPError as e:\n",
        "        # Handle the HTTPError, possibly by ignoring 404 errors (tunnel not found)\n",
        "        if e.status_code == 404:\n",
        "            print(f\"Tunnel {tunnel.public_url} not found, skipping disconnection.\")\n",
        "        else:\n",
        "            # Re-raise the exception for other errors\n",
        "            raise e\n",
        "# Retry connecting\n",
        "public_url = ngrok.connect(\"http://localhost:8501\", bind_tls=True)\n",
        "print(\"Your Streamlit app is live at:\", public_url)"
      ],
      "metadata": {
        "colab": {
          "base_uri": "https://localhost:8080/"
        },
        "id": "ZOyVPcIAkSt9",
        "outputId": "5a522551-e309-4cff-9faf-2741a0f7175b"
      },
      "execution_count": null,
      "outputs": [
        {
          "output_type": "stream",
          "name": "stdout",
          "text": [
            "Your Streamlit app is live at: NgrokTunnel: \"https://aefd-34-170-28-44.ngrok-free.app\" -> \"http://localhost:8501\"\n"
          ]
        }
      ]
    },
    {
      "cell_type": "code",
      "source": [
        "from pyngrok import ngrok\n",
        "public_url = ngrok.connect(\"http://localhost:8501\", bind_tls=True)\n",
        "print(\"Your Streamlit app is live at:\", public_url)"
      ],
      "metadata": {
        "colab": {
          "base_uri": "https://localhost:8080/"
        },
        "id": "zRUSHU4fXQnl",
        "outputId": "d687edac-b3de-4eb1-f166-21b89bf1a53a"
      },
      "execution_count": null,
      "outputs": [
        {
          "output_type": "stream",
          "name": "stdout",
          "text": [
            "Your Streamlit app is live at: NgrokTunnel: \"https://8ef6-34-71-121-125.ngrok-free.app\" -> \"http://localhost:8501\"\n"
          ]
        }
      ]
    },
    {
      "cell_type": "code",
      "source": [
        "import tensorflow as tf\n",
        "import streamlit as st\n",
        "\n",
        "@st.cache_resource\n",
        "def load_model():\n",
        "    model_path = \"/content/drive/MyDrive/Alzheimer_CNN_Final.keras\"  # Adjust path if in folder\n",
        "    model = tf.keras.models.load_model(model_path)\n",
        "    return model\n",
        "\n",
        "model = load_model()"
      ],
      "metadata": {
        "colab": {
          "base_uri": "https://localhost:8080/"
        },
        "id": "A8pONG86a359",
        "outputId": "4be12f38-cbb6-4b40-f4bf-0fe20018d615"
      },
      "execution_count": null,
      "outputs": [
        {
          "output_type": "stream",
          "name": "stderr",
          "text": [
            "2025-05-05 05:05:13.424 WARNING streamlit.runtime.scriptrunner_utils.script_run_context: Thread 'MainThread': missing ScriptRunContext! This warning can be ignored when running in bare mode.\n",
            "2025-05-05 05:05:13.834 \n",
            "  \u001b[33m\u001b[1mWarning:\u001b[0m to view this Streamlit app on a browser, run it with the following\n",
            "  command:\n",
            "\n",
            "    streamlit run /usr/local/lib/python3.11/dist-packages/colab_kernel_launcher.py [ARGUMENTS]\n",
            "2025-05-05 05:05:13.835 Thread 'MainThread': missing ScriptRunContext! This warning can be ignored when running in bare mode.\n",
            "2025-05-05 05:05:13.838 Thread 'MainThread': missing ScriptRunContext! This warning can be ignored when running in bare mode.\n",
            "2025-05-05 05:05:14.344 Thread 'Thread-10': missing ScriptRunContext! This warning can be ignored when running in bare mode.\n",
            "2025-05-05 05:05:14.346 Thread 'Thread-10': missing ScriptRunContext! This warning can be ignored when running in bare mode.\n",
            "/usr/local/lib/python3.11/dist-packages/keras/src/saving/saving_lib.py:757: UserWarning: Skipping variable loading for optimizer 'rmsprop', because it has 18 variables whereas the saved optimizer has 34 variables. \n",
            "  saveable.load_own_variables(weights_store.get(inner_path))\n",
            "2025-05-05 05:05:24.446 Thread 'MainThread': missing ScriptRunContext! This warning can be ignored when running in bare mode.\n",
            "2025-05-05 05:05:24.447 Thread 'MainThread': missing ScriptRunContext! This warning can be ignored when running in bare mode.\n"
          ]
        }
      ]
    },
    {
      "cell_type": "code",
      "source": [
        "from pyngrok import ngrok\n",
        "!streamlit run app.py &>/content/logs.txt &\n",
        "public_url = ngrok.connect(\"http://localhost:8501\", bind_tls=True)\n",
        "print(\"Access your app at:\", public_url)"
      ],
      "metadata": {
        "colab": {
          "base_uri": "https://localhost:8080/"
        },
        "id": "BnbLrdv9bDLT",
        "outputId": "9bb48792-891f-4ad1-c6c4-6744633dc109"
      },
      "execution_count": null,
      "outputs": [
        {
          "output_type": "stream",
          "name": "stdout",
          "text": [
            "Access your app at: NgrokTunnel: \"https://0e06-34-170-28-44.ngrok-free.app\" -> \"http://localhost:8501\"\n"
          ]
        }
      ]
    },
    {
      "cell_type": "code",
      "source": [],
      "metadata": {
        "id": "EIIBxMK2c1av"
      },
      "execution_count": null,
      "outputs": []
    }
  ]
}